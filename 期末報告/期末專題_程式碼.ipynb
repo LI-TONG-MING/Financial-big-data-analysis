{
  "nbformat": 4,
  "nbformat_minor": 0,
  "metadata": {
    "colab": {
      "provenance": []
    },
    "kernelspec": {
      "name": "python3",
      "display_name": "Python 3"
    },
    "language_info": {
      "name": "python"
    }
  },
  "cells": [
    {
      "cell_type": "markdown",
      "source": [
        "## 1. 單獨做CNN 的部分"
      ],
      "metadata": {
        "id": "aMGXAMAfCDwd"
      }
    },
    {
      "cell_type": "code",
      "execution_count": 1,
      "metadata": {
        "id": "RegBXPC8AAdH"
      },
      "outputs": [],
      "source": [
        "import numpy as np\n",
        "import yfinance as yf\n",
        "import matplotlib.pyplot as plt\n",
        "import os\n",
        "import shutil\n",
        "import pandas as pd\n",
        "import datetime as dt\n"
      ]
    },
    {
      "cell_type": "code",
      "source": [
        "#抓取特定時間\n",
        "stock_id = '3711.TW'\n",
        "start = dt.datetime(2020,1,1)\n",
        "end   = dt.datetime(2024, 10,10 )\n",
        "data = yf.download(stock_id, start= start, end=end)"
      ],
      "metadata": {
        "colab": {
          "base_uri": "https://localhost:8080/"
        },
        "id": "VELPV_4VCCbv",
        "outputId": "44b6002c-0fa8-4365-c426-1d7e02552fc5"
      },
      "execution_count": 2,
      "outputs": [
        {
          "output_type": "stream",
          "name": "stderr",
          "text": [
            "\r[*********************100%***********************]  1 of 1 completed\n"
          ]
        }
      ]
    },
    {
      "cell_type": "code",
      "source": [
        "data = data.reset_index()\n",
        "data['Date'] = pd.to_datetime(data['Date']) ## 讓她是時間間數據。\n",
        "data['Date'] = data['Date'].dt.strftime('%Y_%m_%d')\n",
        "data = data.droplevel('Ticker', axis=1) # 刪除 `Ticker` 這層索引\n",
        "data =data.drop(columns=['Adj Close'])  # 這是需要寫等於的。\n",
        "data['Next_close'] = data['Close'].shift(-1) ## 將Close 欄位向上移動一行， 這樣'Next_Close' 會是下一天收盤價。\n",
        "data['Diff'] = (data['Next_close'] > data['Close']).astype('int') ## 比較 'Next_Close' 和 'Close'，大於為1 ， 小於為0。 1代表漲的意識， 0 代表跌的意識。\n"
      ],
      "metadata": {
        "id": "ILrrhgB-CCeZ"
      },
      "execution_count": 3,
      "outputs": []
    },
    {
      "cell_type": "code",
      "source": [
        "## 準備劃K線圖的資料。\n",
        "twenty_days = []\n",
        "labels = []\n",
        "\n",
        "for i in range(len(data.values) -20):\n",
        "    segment = data[['Open','High','Low','Close']].values[i:i+20]\n",
        "    twenty_days.append(segment)\n",
        "    labels.append(data[['Date','Diff']].values[i+19]) #他要是到19 就有答案了。\n"
      ],
      "metadata": {
        "id": "6Q8ZbpGmCCjY"
      },
      "execution_count": 4,
      "outputs": []
    },
    {
      "cell_type": "code",
      "source": [
        "#%% ## 我要去畫K  線圖。\n",
        "\n",
        "image_path = './CNN_data/image'\n",
        "os.makedirs(image_path, exist_ok=True)\n",
        "\n",
        "for idx, segment in enumerate(twenty_days):\n",
        "    #print(segment) ## 這個要在進去一次取才能取道 open，close ... 這些資料。\n",
        "    fig, ax = plt.subplots() # 設置圖像大小（英寸）和 DPI\n",
        "    fig.set_size_inches(0.5, 0.5)\n",
        "    for day_idx ,day in enumerate(segment):\n",
        "        Open_price, high_price , low_price, Close_price = map(int, day)\n",
        "        color = \"red\" if Close_price > Open_price else \"green\"\n",
        "\n",
        "        plt.bar(day_idx, abs(Close_price - Open_price), bottom=min(Open_price, Close_price), color=color, width=0.5)\n",
        "        plt.bar(day_idx, high_price - low_price, bottom=low_price,color=color, width=0.1 )\n",
        "\n",
        "    rise_or_fall = \"rise\" if labels[idx][1] ==1 else \"fail\"\n",
        "    Datatime =  labels[idx][0]\n",
        "    plt.axis('off')\n",
        "    plt.savefig(f'{image_path}/{idx:05d}_{Datatime}_{rise_or_fall}.png', format='png',dpi=100)  ## 儲存圖片\n",
        "    plt.close()\n"
      ],
      "metadata": {
        "id": "ET-3a8oJCClu"
      },
      "execution_count": 5,
      "outputs": []
    },
    {
      "cell_type": "code",
      "source": [
        "#%% Dataset Preparation\n",
        "print('Dataset Preparation Start')\n",
        "image_files = os.listdir(image_path)\n",
        "train_size = int(len(image_files) * 0.8 )\n",
        "train_list = image_files[:train_size]\n",
        "test_list  = image_files[train_size: ]\n",
        "\n",
        "\n",
        "train_rise_folder = './CNN_data/train_folder_path/rise'\n",
        "train_fail_folder = './CNN_data/train_folder_path/fail'\n",
        "test_rise_folder = './CNN_data/test_folder_path/rise'\n",
        "test_fail_folder = './CNN_data/test_folder_path/fail'\n",
        "\n",
        "for folder in [train_rise_folder, train_fail_folder, test_rise_folder, test_fail_folder]:\n",
        "    os.makedirs(folder, exist_ok=True)\n",
        "\n",
        "\n",
        "## 複製train 圖片到 train資料夾。\n",
        "for train_image in train_list:\n",
        "    scr_path = os.path.join('./CNN_data/image', train_image)\n",
        "    #print(scr_path) ##./image\\00368_2024_08_09_rise.png  多思，為什麼他是長這樣呀????\n",
        "    rise_fail_str = str(scr_path).split('_')\n",
        "    #print(rise_fail_str[4][0:4]) ## 取出 'rise' 或 false 字體\n",
        "    #print(rise_fail_str)\n",
        "    if rise_fail_str[5][0:4] == \"rise\" :\n",
        "        dest_path = os.path.join(train_rise_folder+'/', train_image)\n",
        "    if rise_fail_str[5][0:4] == \"fail\" :\n",
        "        dest_path = os.path.join(train_fail_folder+'/', train_image)\n",
        "    shutil.copy(scr_path, dest_path)\n",
        "\n",
        "##複製test 圖片到 test 資料夾\n",
        "for test_image in test_list:\n",
        "    scr_path = os.path.join('./CNN_data/image', test_image)\n",
        "    rise_fail_str = str(scr_path).split('_')\n",
        "    if rise_fail_str[5][0:4] == \"rise\" :\n",
        "        dest_path = os.path.join(test_rise_folder+'/', test_image)\n",
        "    if rise_fail_str[5][0:4] == \"fail\" :\n",
        "        dest_path = os.path.join(test_fail_folder+'/', test_image)\n",
        "    shutil.copy(scr_path, dest_path)\n",
        ""
      ],
      "metadata": {
        "colab": {
          "base_uri": "https://localhost:8080/"
        },
        "id": "Y4xNnap-CZmf",
        "outputId": "1afff51b-d36e-442c-ae81-72fec4e87de4"
      },
      "execution_count": 6,
      "outputs": [
        {
          "output_type": "stream",
          "name": "stdout",
          "text": [
            "Dataset Preparation Start\n"
          ]
        }
      ]
    },
    {
      "cell_type": "code",
      "source": [
        "#%%  ## 接著我要建立CNN 模型\n",
        "print(\"接著我要建立CNN 模型\")\n",
        "import torch\n",
        "from torchvision import datasets, transforms\n",
        "from torch.utils.data import DataLoader\n",
        "\n",
        "#檢查GPU 是否可用\n",
        "device = torch.device(\"cuda\" if torch.cuda.is_available() else \"cpu\")\n",
        "print(\"Using device: \", device) ## 顯示使用的裝置。\n",
        "\n",
        "#定義轉換\n",
        "transform = transforms.Compose([\n",
        "    transforms.Resize((50, 50)),  ##調整圖片大小\n",
        "    transforms.ToTensor()\n",
        "])\n",
        "\n",
        "#讀取訓練和驗證資料夾\n",
        "train_data = datasets.ImageFolder(root='./CNN_data/train_folder_path/', transform= transform)\n",
        "test_data = datasets.ImageFolder(root='./CNN_data/test_folder_path/', transform= transform)\n",
        "\n",
        "train_loader = DataLoader(train_data, batch_size=32, shuffle=True)\n",
        "test_loader = DataLoader(test_data, batch_size=32, shuffle=False)\n",
        "\n",
        "import torch.nn as nn\n",
        "import matplotlib.pyplot as plt\n",
        "\n",
        "class CNN_Model(nn.Module):\n",
        "    def __init__(self):\n",
        "        super(CNN_Model, self).__init__() ## 要繼承他的爸爸\n",
        "\n",
        "        self.cnn = nn.Sequential(\n",
        "            nn.Conv2d(in_channels = 3, out_channels = 32, kernel_size =3 , stride=1, padding=0), #(50 * 50) -> (48 * 48)\n",
        "            nn.MaxPool2d(kernel_size=2, stride=2), # (48, 48) -> (24, 24)\n",
        "            nn.ReLU(),\n",
        "\n",
        "            nn.Conv2d(in_channels = 32, out_channels = 48, kernel_size = 3, stride=1, padding=0), #(24, 24) -> (22, 22)\n",
        "            nn.MaxPool2d(kernel_size=2, stride=2), # (22, 22) -> (11, 11)\n",
        "            nn.ReLU(),\n",
        "\n",
        "            nn.Conv2d(in_channels = 48, out_channels = 64, kernel_size = 3, stride=1, padding=0),   #(11,11) -> (9,9)\n",
        "            nn.MaxPool2d(kernel_size=2, stride=2), # (9,9) -> (4,4)\n",
        "            nn.ReLU(),\n",
        "\n",
        "            nn.Conv2d(in_channels = 64, out_channels = 96, kernel_size =3, stride=1, padding=0),   #(4,4) -> (2,2)\n",
        "            nn.MaxPool2d(kernel_size=2, stride=2),  #(2* 2) -> (1 * 1)\n",
        "            nn.ReLU()\n",
        "            )\n",
        "\n",
        "        self.linear = nn.Sequential(\n",
        "            nn.Linear(in_features= 96, out_features= 64),\n",
        "            nn.Linear(in_features = 64, out_features = 32),\n",
        "            nn.Linear(in_features= 32, out_features= 1),\n",
        "            nn.Sigmoid()\n",
        "            )\n",
        "    def forward(self, x):\n",
        "        out = self.cnn(x)\n",
        "        cnn_out = out.view(out.size(0), -1)  #3 多思，我這樣攤平對嗎?\n",
        "        linear_out = self.linear(cnn_out)\n",
        "\n",
        "        return linear_out\n",
        ""
      ],
      "metadata": {
        "colab": {
          "base_uri": "https://localhost:8080/"
        },
        "id": "AaUVROYvC5MB",
        "outputId": "4046b554-9f0d-4c33-efa2-1ef99f7d503b"
      },
      "execution_count": 7,
      "outputs": [
        {
          "output_type": "stream",
          "name": "stdout",
          "text": [
            "接著我要建立CNN 模型\n",
            "Using device:  cpu\n"
          ]
        }
      ]
    },
    {
      "cell_type": "code",
      "source": [
        "import torch.optim as optim\n",
        "\n",
        "model = CNN_Model()\n",
        "print(model)\n",
        "\n",
        "# 初始化模型並轉移至 GPU\n",
        "model = CNN_Model().to(device)\n",
        "\n",
        "optimizer = optim.Adam(model.parameters(), lr = 0.001)\n",
        "loss_func = nn.BCELoss()\n",
        "input_shape = (-1,3,50,50)  ##多思，這個要幹嘛?\n",
        "\n",
        "# Traning the Model\n",
        "#history-like list for store loss & acc value\n",
        "training_loss_list = []\n",
        "num_epochs = 50\n",
        "\n",
        "# 開始訓練 訓練集\n",
        "print(\"開始訓練 訓練集\")\n",
        "for epoch in range(num_epochs) :\n",
        "    #print('epoch: ', epoch)\n",
        "    model.train()\n",
        "    running_loss = 0.0\n",
        "\n",
        "    for i , (image, label) in enumerate(train_loader):\n",
        "        images, labels = image.to(device), label.to(device) # 將 images 和 labels 轉移至 GPU\n",
        "        #print(images.shape)\n",
        "        #print(labels.shape)\n",
        "        optimizer.zero_grad() # 2.Clear gradients  ## 清晰的漸變; 清理梯度\n",
        "        #images = images.view(input_shape)\n",
        "\n",
        "        outputs = model(images) # 3.Forward propagation ##前向傳播\n",
        "        outputs = outputs.squeeze(-1)  # 移除最後一個維度 [16,1] -> [16] # 適用於 BCELoss 的輸出\n",
        "\n",
        "        train_loss = loss_func(outputs, labels.float()) # 4.Calculate softmax and cross entropy loss  ## 計算softmax和交叉熵損失\n",
        "        train_loss.backward()  # 5.Calculate gradients #計算梯度\n",
        "        optimizer.step() # 6.Update parameters  ##更新參數\n",
        "        running_loss += train_loss.item()\n",
        "\n",
        "    # 計算訓練準確率\n",
        "    avg_loss =  running_loss / len(train_loader)\n",
        "    print(f\"epoch [{epoch+1}/{num_epochs}], Loss: {avg_loss:.7f} \")\n",
        "    training_loss_list.append(avg_loss)\n",
        "\n",
        "## 儲存模型\n",
        "torch.save(model,'./CNN_data/CNN_model_test1.pt')\n",
        "\n",
        "## 測試集\n",
        "# 驗證模型\n",
        "\n",
        "test_loss_lsit = []\n",
        "test_accuracy = []\n",
        "correct = 0\n",
        "total = 0\n",
        "model.eval()\n",
        "test_loss = 0.0\n",
        "with torch.no_grad():\n",
        "    for images, labels in test_loader:\n",
        "        images, labels = images.to(device), labels.to(device) # 將 images 和 labels 轉移至 GPU\n",
        "        outputs = model(images)\n",
        "        outputs = outputs.squeeze(-1)\n",
        "        #計算損失\n",
        "        loss = loss_func(outputs, labels.float())\n",
        "        test_loss += loss.item()\n",
        "\n",
        "\n",
        "        ## 計算準確率\n",
        "        predicted = (outputs > 0.5).float()\n",
        "        #print(predicted)\n",
        "        total += labels.size(0)\n",
        "        correct += (predicted == labels.float()).sum().item()\n",
        "        #print(predicted, labels)\n",
        "\n",
        "## 儲存測試損失準確度\n",
        "avg_loss = test_loss/len(test_loader)\n",
        "#print(f'Test Loss: {avg_loss:.4f}')\n",
        "#print(len(test_loader))\n",
        "\n",
        "test_loss_lsit.append(avg_loss)\n",
        "accuracy_on_testData =  correct / total * 100\n",
        "print(f'Accuracy on test data: {accuracy_on_testData:.2f}%')\n",
        ""
      ],
      "metadata": {
        "colab": {
          "base_uri": "https://localhost:8080/"
        },
        "id": "-iMwF0j_C5JV",
        "outputId": "55b9e52d-f372-499c-b71f-cc45c625676e"
      },
      "execution_count": 8,
      "outputs": [
        {
          "output_type": "stream",
          "name": "stdout",
          "text": [
            "CNN_Model(\n",
            "  (cnn): Sequential(\n",
            "    (0): Conv2d(3, 32, kernel_size=(3, 3), stride=(1, 1))\n",
            "    (1): MaxPool2d(kernel_size=2, stride=2, padding=0, dilation=1, ceil_mode=False)\n",
            "    (2): ReLU()\n",
            "    (3): Conv2d(32, 48, kernel_size=(3, 3), stride=(1, 1))\n",
            "    (4): MaxPool2d(kernel_size=2, stride=2, padding=0, dilation=1, ceil_mode=False)\n",
            "    (5): ReLU()\n",
            "    (6): Conv2d(48, 64, kernel_size=(3, 3), stride=(1, 1))\n",
            "    (7): MaxPool2d(kernel_size=2, stride=2, padding=0, dilation=1, ceil_mode=False)\n",
            "    (8): ReLU()\n",
            "    (9): Conv2d(64, 96, kernel_size=(3, 3), stride=(1, 1))\n",
            "    (10): MaxPool2d(kernel_size=2, stride=2, padding=0, dilation=1, ceil_mode=False)\n",
            "    (11): ReLU()\n",
            "  )\n",
            "  (linear): Sequential(\n",
            "    (0): Linear(in_features=96, out_features=64, bias=True)\n",
            "    (1): Linear(in_features=64, out_features=32, bias=True)\n",
            "    (2): Linear(in_features=32, out_features=1, bias=True)\n",
            "    (3): Sigmoid()\n",
            "  )\n",
            ")\n",
            "開始訓練 訓練集\n",
            "epoch [1/50], Loss: 0.6939301 \n",
            "epoch [2/50], Loss: 0.6934324 \n",
            "epoch [3/50], Loss: 0.6936309 \n",
            "epoch [4/50], Loss: 0.6935431 \n",
            "epoch [5/50], Loss: 0.6930288 \n",
            "epoch [6/50], Loss: 0.6927927 \n",
            "epoch [7/50], Loss: 0.6930569 \n",
            "epoch [8/50], Loss: 0.6934086 \n",
            "epoch [9/50], Loss: 0.6932923 \n",
            "epoch [10/50], Loss: 0.6936519 \n",
            "epoch [11/50], Loss: 0.6929561 \n",
            "epoch [12/50], Loss: 0.6930986 \n",
            "epoch [13/50], Loss: 0.6928143 \n",
            "epoch [14/50], Loss: 0.6931402 \n",
            "epoch [15/50], Loss: 0.6932485 \n",
            "epoch [16/50], Loss: 0.6929632 \n",
            "epoch [17/50], Loss: 0.6931903 \n",
            "epoch [18/50], Loss: 0.6928517 \n",
            "epoch [19/50], Loss: 0.6931792 \n",
            "epoch [20/50], Loss: 0.6928094 \n",
            "epoch [21/50], Loss: 0.6931135 \n",
            "epoch [22/50], Loss: 0.6933989 \n",
            "epoch [23/50], Loss: 0.6928534 \n",
            "epoch [24/50], Loss: 0.6932767 \n",
            "epoch [25/50], Loss: 0.6930629 \n",
            "epoch [26/50], Loss: 0.6930830 \n",
            "epoch [27/50], Loss: 0.6931151 \n",
            "epoch [28/50], Loss: 0.6930906 \n",
            "epoch [29/50], Loss: 0.6928989 \n",
            "epoch [30/50], Loss: 0.6932041 \n",
            "epoch [31/50], Loss: 0.6932724 \n",
            "epoch [32/50], Loss: 0.6929443 \n",
            "epoch [33/50], Loss: 0.6931046 \n",
            "epoch [34/50], Loss: 0.6929931 \n",
            "epoch [35/50], Loss: 0.6930047 \n",
            "epoch [36/50], Loss: 0.6930298 \n",
            "epoch [37/50], Loss: 0.6931824 \n",
            "epoch [38/50], Loss: 0.6930450 \n",
            "epoch [39/50], Loss: 0.6929767 \n",
            "epoch [40/50], Loss: 0.6928646 \n",
            "epoch [41/50], Loss: 0.6931866 \n",
            "epoch [42/50], Loss: 0.6930022 \n",
            "epoch [43/50], Loss: 0.6931454 \n",
            "epoch [44/50], Loss: 0.6931562 \n",
            "epoch [45/50], Loss: 0.6927946 \n",
            "epoch [46/50], Loss: 0.6928366 \n",
            "epoch [47/50], Loss: 0.6931508 \n",
            "epoch [48/50], Loss: 0.6930181 \n",
            "epoch [49/50], Loss: 0.6931155 \n",
            "epoch [50/50], Loss: 0.6930694 \n",
            "Accuracy on test data: 51.35%\n"
          ]
        }
      ]
    },
    {
      "cell_type": "code",
      "source": [
        "plt.plot(range(num_epochs), training_loss_list, 'b-', label='Training_loss')\n",
        "plt.title('Training  loss')\n",
        "plt.xlabel('Number of epochs')\n",
        "plt.ylabel('Loss')\n",
        "plt.legend()\n",
        "plt.show()"
      ],
      "metadata": {
        "colab": {
          "base_uri": "https://localhost:8080/",
          "height": 472
        },
        "id": "39oEbtI1C5Gt",
        "outputId": "364b2778-2049-4e09-a4d1-c85c0028e9e2"
      },
      "execution_count": 9,
      "outputs": [
        {
          "output_type": "display_data",
          "data": {
            "text/plain": [
              "<Figure size 640x480 with 1 Axes>"
            ],
            "image/png": "[encoded data removed]"
          },
          "metadata": {}
        }
      ]
    },
    {
      "cell_type": "code",
      "source": [],
      "metadata": {
        "id": "mjXsgK-yC5Ep"
      },
      "execution_count": 9,
      "outputs": []
    },
    {
      "cell_type": "markdown",
      "source": [
        "## 2.單獨做LSTM的話"
      ],
      "metadata": {
        "id": "NUMRDSauEtYq"
      }
    },
    {
      "cell_type": "code",
      "source": [
        "!pip install ta"
      ],
      "metadata": {
        "colab": {
          "base_uri": "https://localhost:8080/"
        },
        "id": "awqt80YCE55J",
        "outputId": "00706bac-e14d-485b-c43b-2ab1b2ba22a7"
      },
      "execution_count": 10,
      "outputs": [
        {
          "output_type": "stream",
          "name": "stdout",
          "text": [
            "Requirement already satisfied: ta in /usr/local/lib/python3.10/dist-packages (0.11.0)\n",
            "Requirement already satisfied: numpy in /usr/local/lib/python3.10/dist-packages (from ta) (1.26.4)\n",
            "Requirement already satisfied: pandas in /usr/local/lib/python3.10/dist-packages (from ta) (2.2.2)\n",
            "Requirement already satisfied: python-dateutil>=2.8.2 in /usr/local/lib/python3.10/dist-packages (from pandas->ta) (2.8.2)\n",
            "Requirement already satisfied: pytz>=2020.1 in /usr/local/lib/python3.10/dist-packages (from pandas->ta) (2024.2)\n",
            "Requirement already satisfied: tzdata>=2022.7 in /usr/local/lib/python3.10/dist-packages (from pandas->ta) (2024.2)\n",
            "Requirement already satisfied: six>=1.5 in /usr/local/lib/python3.10/dist-packages (from python-dateutil>=2.8.2->pandas->ta) (1.17.0)\n"
          ]
        }
      ]
    },
    {
      "cell_type": "code",
      "source": [
        "import numpy as np\n",
        "import yfinance as yf\n",
        "import pandas as pd\n",
        "import torch\n",
        "import torch.nn as nn\n",
        "import torch.optim as optim\n",
        "from torch.utils.data import TensorDataset, DataLoader\n",
        "from ta.momentum import RSIIndicator\n",
        "from ta.trend import MACD\n",
        "from ta.volatility import BollingerBands\n",
        "import datetime as dt"
      ],
      "metadata": {
        "id": "KDmbhPBwEz23"
      },
      "execution_count": 11,
      "outputs": []
    },
    {
      "cell_type": "code",
      "source": [
        "stock_id = '3711.TW'\n",
        "\n",
        "#抓取特定時間\n",
        "start = dt.datetime(2020,1,1)\n",
        "end   = dt.datetime(2024, 10,10 )\n",
        "data = yf.download(stock_id, start= start, end=end)\n",
        "\n",
        "data = data.reset_index()\n",
        "data['Date'] = pd.to_datetime(data['Date'])\n",
        "data['Date'] = data['Date'].dt.strftime('%Y_%m_%d')\n",
        "\n",
        "data = data.droplevel('Ticker', axis=1) # 刪除 `Ticker` 這層索引\n",
        "data =data.drop(columns=['Adj Close'])  # 這是需要寫等於的。\n",
        "\n",
        "\n",
        "# 加入目標變數 (Diff)\n",
        "data['Next_close'] = data['Close'].shift(-1)\n",
        "data['Diff'] = (data['Next_close'] > data['Close']).astype('int')\n",
        "data = data.dropna()  # 確保沒有 NaN 資料\n",
        "\n",
        "# 加入技術指標\n",
        "data['SMA_5'] = data['Close'].rolling(window=5).mean()\n",
        "data['SMA_20'] = data['Close'].rolling(window=20).mean()\n",
        "\n",
        "rsi = RSIIndicator(close=data['Close'], window=14)\n",
        "data['RSI_14'] = rsi.rsi()\n",
        "\n",
        "macd = MACD(close=data['Close'])\n",
        "data['MACD'] = macd.macd()\n",
        "data['MACD_signal'] = macd.macd_signal()\n",
        "\n",
        "bb = BollingerBands(close=data['Close'], window=20, window_dev=2)\n",
        "data['BB_upper'] = bb.bollinger_hband()\n",
        "data['BB_lower'] = bb.bollinger_lband()\n",
        "data['BB_width'] = data['BB_upper'] - data['BB_lower']\n",
        "\n",
        "data = data.dropna()"
      ],
      "metadata": {
        "colab": {
          "base_uri": "https://localhost:8080/"
        },
        "id": "0S0k14W1E3E-",
        "outputId": "1d91e8df-6a19-450d-9283-f3ec66e23be1"
      },
      "execution_count": 12,
      "outputs": [
        {
          "output_type": "stream",
          "name": "stderr",
          "text": [
            "\r[*********************100%***********************]  1 of 1 completed\n"
          ]
        }
      ]
    },
    {
      "cell_type": "code",
      "source": [
        "# 滑動窗口生成特徵和標籤\n",
        "twenty_days = []\n",
        "labels = []\n",
        "\n",
        "for i in range(len(data.values) - 20):\n",
        "    segment = data[['Open', 'High', 'Low', 'Close', 'Volume',\n",
        "                    'SMA_5', 'SMA_20', 'RSI_14', 'MACD', 'BB_width']].values[i:i + 20]\n",
        "    twenty_days.append(segment)\n",
        "    labels.append(data['Diff'].values[i + 19])\n",
        "\n",
        "# 分割訓練和測試集\n",
        "train_size = int(len(labels) * 0.8)\n",
        "\n",
        "train_x = np.array(twenty_days[:train_size], dtype=np.float32)\n",
        "test_x = np.array(twenty_days[train_size:], dtype=np.float32)\n",
        "\n",
        "train_y = np.array(labels[:train_size], dtype=np.float32)\n",
        "test_y = np.array(labels[train_size:], dtype=np.float32)\n",
        "\n",
        "# 轉換為 Torch 張量\n",
        "train_x = torch.FloatTensor(train_x)\n",
        "test_x = torch.FloatTensor(test_x)\n",
        "train_y = torch.FloatTensor(train_y).view(-1)\n",
        "test_y = torch.FloatTensor(test_y).view(-1)\n",
        "\n",
        "# 建立 TensorDataset 和 DataLoader\n",
        "batch_size = 64\n",
        "train_dataset = TensorDataset(train_x, train_y)\n",
        "test_dataset = TensorDataset(test_x, test_y)\n",
        "\n",
        "train_loader = DataLoader(train_dataset, batch_size=batch_size, shuffle=True)\n",
        "test_loader = DataLoader(test_dataset, batch_size=batch_size, shuffle=False)\n"
      ],
      "metadata": {
        "id": "xmg-FQUlFHR_"
      },
      "execution_count": 13,
      "outputs": []
    },
    {
      "cell_type": "code",
      "source": [
        "# 定義 LSTM 模型\n",
        "class LSTMModel(nn.Module):\n",
        "    def __init__(self):\n",
        "        super(LSTMModel, self).__init__()\n",
        "\n",
        "        self.lstm1 = nn.LSTM(input_size = 10, hidden_size = 64, num_layers=1, batch_first= True)\n",
        "        self.Relu1 = nn.ReLU()\n",
        "        self.lstm2 = nn.LSTM(input_size =64, hidden_size =32, num_layers=1, batch_first=True)\n",
        "        self.Relu2 = nn.ReLU()\n",
        "\n",
        "        self.fc = nn.Sequential(\n",
        "            nn.Linear(in_features = 32 , out_features = 64),\n",
        "            nn.Linear(in_features = 64, out_features = 32),\n",
        "            nn.Linear(in_features = 32, out_features =1),\n",
        "            nn.Sigmoid()\n",
        "            )\n",
        "\n",
        "    def forward(self, x):\n",
        "        out, _ = self.lstm1(x)\n",
        "        out    = self.Relu1(out)\n",
        "\n",
        "        out, _ = self.lstm2(out)\n",
        "        out    = self.Relu2(out)\n",
        "\n",
        "        out = out[:, -1, :]  # 最後一個時間步\n",
        "        out = self.fc(out)\n",
        "        return out\n",
        "\n"
      ],
      "metadata": {
        "id": "o-SJu2RnFNup"
      },
      "execution_count": 14,
      "outputs": []
    },
    {
      "cell_type": "code",
      "source": [
        "# 超參數\n",
        "num_epochs = 100\n",
        "learning_rate = 0.001\n",
        "\n",
        "# 初始化模型\n",
        "device = torch.device('cuda' if torch.cuda.is_available() else 'cpu')\n",
        "model = LSTMModel().to(device)\n",
        "\n",
        "optimizer = optim.Adam(model.parameters(), lr=learning_rate)\n",
        "loss_func = nn.BCELoss()\n",
        "\n",
        "# 訓練和驗證\n",
        "print(\"開始訓練\")\n",
        "for epoch in range(num_epochs):\n",
        "    model.train()\n",
        "    epoch_loss = 0\n",
        "    for batch_x, batch_y in train_loader:\n",
        "        batch_x, batch_y = batch_x.to(device), batch_y.to(device)\n",
        "        outputs = model(batch_x)\n",
        "        outputs = outputs.squeeze(-1)\n",
        "        loss = loss_func(outputs, batch_y)\n",
        "        optimizer.zero_grad()\n",
        "        loss.backward()\n",
        "        optimizer.step()\n",
        "        epoch_loss += loss.item()\n",
        "    avg_loss = epoch_loss / len(train_loader)\n",
        "\n",
        "    model.eval()\n",
        "    val_loss = 0\n",
        "    with torch.no_grad():\n",
        "        for batch_x, batch_y in test_loader:\n",
        "            batch_x, batch_y = batch_x.to(device), batch_y.to(device)\n",
        "            outputs = model(batch_x)\n",
        "            outputs = outputs.squeeze(-1)\n",
        "            loss = loss_func(outputs, batch_y)\n",
        "            val_loss += loss.item()\n",
        "\n",
        "    avg_val_loss = val_loss / len(test_loader)\n",
        "    print(f'Epoch [{epoch+1}/{num_epochs}], Train Loss: {avg_loss:.4f}, Val Loss: {avg_val_loss:.4f}')\n",
        "\n",
        "\n",
        "## 儲存模型\n",
        "torch.save(model,'LSTM_model_test1.pt')\n"
      ],
      "metadata": {
        "colab": {
          "base_uri": "https://localhost:8080/"
        },
        "id": "DdWJnFlAFaD9",
        "outputId": "bdd761c5-247d-4367-b486-c79ef9a4e507"
      },
      "execution_count": 15,
      "outputs": [
        {
          "output_type": "stream",
          "name": "stdout",
          "text": [
            "開始訓練\n",
            "Epoch [1/100], Train Loss: 0.6931, Val Loss: 0.6928\n",
            "Epoch [2/100], Train Loss: 0.6924, Val Loss: 0.6928\n",
            "Epoch [3/100], Train Loss: 0.6930, Val Loss: 0.6931\n",
            "Epoch [4/100], Train Loss: 0.6927, Val Loss: 0.6928\n",
            "Epoch [5/100], Train Loss: 0.6926, Val Loss: 0.6928\n",
            "Epoch [6/100], Train Loss: 0.6925, Val Loss: 0.6928\n",
            "Epoch [7/100], Train Loss: 0.6929, Val Loss: 0.6928\n",
            "Epoch [8/100], Train Loss: 0.6925, Val Loss: 0.6928\n",
            "Epoch [9/100], Train Loss: 0.6927, Val Loss: 0.6928\n",
            "Epoch [10/100], Train Loss: 0.6925, Val Loss: 0.6929\n",
            "Epoch [11/100], Train Loss: 0.6927, Val Loss: 0.6928\n",
            "Epoch [12/100], Train Loss: 0.6925, Val Loss: 0.6928\n",
            "Epoch [13/100], Train Loss: 0.6928, Val Loss: 0.6929\n",
            "Epoch [14/100], Train Loss: 0.6928, Val Loss: 0.6931\n",
            "Epoch [15/100], Train Loss: 0.6926, Val Loss: 0.6928\n",
            "Epoch [16/100], Train Loss: 0.6925, Val Loss: 0.6928\n",
            "Epoch [17/100], Train Loss: 0.6927, Val Loss: 0.6928\n",
            "Epoch [18/100], Train Loss: 0.6923, Val Loss: 0.6929\n",
            "Epoch [19/100], Train Loss: 0.6926, Val Loss: 0.6931\n",
            "Epoch [20/100], Train Loss: 0.6929, Val Loss: 0.6928\n",
            "Epoch [21/100], Train Loss: 0.6925, Val Loss: 0.6928\n",
            "Epoch [22/100], Train Loss: 0.6927, Val Loss: 0.6929\n",
            "Epoch [23/100], Train Loss: 0.6926, Val Loss: 0.6928\n",
            "Epoch [24/100], Train Loss: 0.6924, Val Loss: 0.6928\n",
            "Epoch [25/100], Train Loss: 0.6924, Val Loss: 0.6928\n",
            "Epoch [26/100], Train Loss: 0.6934, Val Loss: 0.6933\n",
            "Epoch [27/100], Train Loss: 0.6926, Val Loss: 0.6929\n",
            "Epoch [28/100], Train Loss: 0.6922, Val Loss: 0.6928\n",
            "Epoch [29/100], Train Loss: 0.6926, Val Loss: 0.6930\n",
            "Epoch [30/100], Train Loss: 0.6923, Val Loss: 0.6928\n",
            "Epoch [31/100], Train Loss: 0.6921, Val Loss: 0.6928\n",
            "Epoch [32/100], Train Loss: 0.6923, Val Loss: 0.6928\n",
            "Epoch [33/100], Train Loss: 0.6920, Val Loss: 0.6929\n",
            "Epoch [34/100], Train Loss: 0.6926, Val Loss: 0.6930\n",
            "Epoch [35/100], Train Loss: 0.6918, Val Loss: 0.6928\n",
            "Epoch [36/100], Train Loss: 0.6918, Val Loss: 0.6928\n",
            "Epoch [37/100], Train Loss: 0.6923, Val Loss: 0.6928\n",
            "Epoch [38/100], Train Loss: 0.6916, Val Loss: 0.6929\n",
            "Epoch [39/100], Train Loss: 0.6917, Val Loss: 0.6930\n",
            "Epoch [40/100], Train Loss: 0.6920, Val Loss: 0.6928\n",
            "Epoch [41/100], Train Loss: 0.6915, Val Loss: 0.6928\n",
            "Epoch [42/100], Train Loss: 0.6913, Val Loss: 0.6931\n",
            "Epoch [43/100], Train Loss: 0.6917, Val Loss: 0.6928\n",
            "Epoch [44/100], Train Loss: 0.6913, Val Loss: 0.6930\n",
            "Epoch [45/100], Train Loss: 0.6911, Val Loss: 0.6928\n",
            "Epoch [46/100], Train Loss: 0.6912, Val Loss: 0.6928\n",
            "Epoch [47/100], Train Loss: 0.6931, Val Loss: 0.6932\n",
            "Epoch [48/100], Train Loss: 0.6933, Val Loss: 0.6928\n",
            "Epoch [49/100], Train Loss: 0.6911, Val Loss: 0.6928\n",
            "Epoch [50/100], Train Loss: 0.6912, Val Loss: 0.6929\n",
            "Epoch [51/100], Train Loss: 0.6912, Val Loss: 0.6928\n",
            "Epoch [52/100], Train Loss: 0.6910, Val Loss: 0.6928\n",
            "Epoch [53/100], Train Loss: 0.6910, Val Loss: 0.6930\n",
            "Epoch [54/100], Train Loss: 0.6911, Val Loss: 0.6928\n",
            "Epoch [55/100], Train Loss: 0.6907, Val Loss: 0.6928\n",
            "Epoch [56/100], Train Loss: 0.6908, Val Loss: 0.6928\n",
            "Epoch [57/100], Train Loss: 0.6907, Val Loss: 0.6928\n",
            "Epoch [58/100], Train Loss: 0.6906, Val Loss: 0.6935\n",
            "Epoch [59/100], Train Loss: 0.6908, Val Loss: 0.6928\n",
            "Epoch [60/100], Train Loss: 0.6904, Val Loss: 0.6928\n",
            "Epoch [61/100], Train Loss: 0.6902, Val Loss: 0.6928\n",
            "Epoch [62/100], Train Loss: 0.6905, Val Loss: 0.6932\n",
            "Epoch [63/100], Train Loss: 0.6898, Val Loss: 0.6929\n",
            "Epoch [64/100], Train Loss: 0.6901, Val Loss: 0.6928\n",
            "Epoch [65/100], Train Loss: 0.6894, Val Loss: 0.6950\n",
            "Epoch [66/100], Train Loss: 0.6914, Val Loss: 0.6965\n",
            "Epoch [67/100], Train Loss: 0.6908, Val Loss: 0.6928\n",
            "Epoch [68/100], Train Loss: 0.6899, Val Loss: 0.6929\n",
            "Epoch [69/100], Train Loss: 0.6898, Val Loss: 0.6931\n",
            "Epoch [70/100], Train Loss: 0.6892, Val Loss: 0.6928\n",
            "Epoch [71/100], Train Loss: 0.6896, Val Loss: 0.6929\n",
            "Epoch [72/100], Train Loss: 0.6887, Val Loss: 0.6930\n",
            "Epoch [73/100], Train Loss: 0.6890, Val Loss: 0.6930\n",
            "Epoch [74/100], Train Loss: 0.6885, Val Loss: 0.6928\n",
            "Epoch [75/100], Train Loss: 0.6887, Val Loss: 0.6928\n",
            "Epoch [76/100], Train Loss: 0.6901, Val Loss: 0.6928\n",
            "Epoch [77/100], Train Loss: 0.6884, Val Loss: 0.6934\n",
            "Epoch [78/100], Train Loss: 0.6890, Val Loss: 0.6928\n",
            "Epoch [79/100], Train Loss: 0.6889, Val Loss: 0.6928\n",
            "Epoch [80/100], Train Loss: 0.6893, Val Loss: 0.6928\n",
            "Epoch [81/100], Train Loss: 0.6877, Val Loss: 0.6931\n",
            "Epoch [82/100], Train Loss: 0.6878, Val Loss: 0.6928\n",
            "Epoch [83/100], Train Loss: 0.6874, Val Loss: 0.6929\n",
            "Epoch [84/100], Train Loss: 0.6874, Val Loss: 0.6929\n",
            "Epoch [85/100], Train Loss: 0.6867, Val Loss: 0.6928\n",
            "Epoch [86/100], Train Loss: 0.6875, Val Loss: 0.6928\n",
            "Epoch [87/100], Train Loss: 0.6871, Val Loss: 0.6929\n",
            "Epoch [88/100], Train Loss: 0.6872, Val Loss: 0.6928\n",
            "Epoch [89/100], Train Loss: 0.6890, Val Loss: 0.6928\n",
            "Epoch [90/100], Train Loss: 0.6875, Val Loss: 0.6928\n",
            "Epoch [91/100], Train Loss: 0.6865, Val Loss: 0.6929\n",
            "Epoch [92/100], Train Loss: 0.6864, Val Loss: 0.6929\n",
            "Epoch [93/100], Train Loss: 0.6860, Val Loss: 0.6929\n",
            "Epoch [94/100], Train Loss: 0.6861, Val Loss: 0.6930\n",
            "Epoch [95/100], Train Loss: 0.6869, Val Loss: 0.6929\n",
            "Epoch [96/100], Train Loss: 0.6852, Val Loss: 0.6928\n",
            "Epoch [97/100], Train Loss: 0.6852, Val Loss: 0.6929\n",
            "Epoch [98/100], Train Loss: 0.6859, Val Loss: 0.6928\n",
            "Epoch [99/100], Train Loss: 0.6861, Val Loss: 0.6928\n",
            "Epoch [100/100], Train Loss: 0.6853, Val Loss: 0.6944\n"
          ]
        }
      ]
    },
    {
      "cell_type": "code",
      "source": [
        "# 測試集結果評估\n",
        "model.eval()\n",
        "with torch.no_grad():\n",
        "    test_preds = []\n",
        "    for batch_x, _ in test_loader:\n",
        "        batch_x = batch_x.to(device)\n",
        "        outputs = model(batch_x)\n",
        "        #print(outputs.squeeze(-1).cpu().numpy())\n",
        "        test_preds.extend((outputs.squeeze(-1) > 0.5).cpu().numpy())\n",
        "\n",
        "test_preds = np.array(test_preds)\n",
        "accuracy = (test_preds == test_y.numpy()).mean()\n",
        "print(f\"測試集準確率: {accuracy:.2%}\")"
      ],
      "metadata": {
        "colab": {
          "base_uri": "https://localhost:8080/"
        },
        "id": "MbFyvCzmFUqL",
        "outputId": "1bf6ad8c-d264-4f80-8120-b4a2b9681fa0"
      },
      "execution_count": 16,
      "outputs": [
        {
          "output_type": "stream",
          "name": "stdout",
          "text": [
            "測試集準確率: 49.77%\n"
          ]
        }
      ]
    },
    {
      "cell_type": "code",
      "source": [
        "#測試集結果評估 2\n",
        "correct = 0\n",
        "total = 0\n",
        "model.eval()\n",
        "test_loss = 0.0\n",
        "with torch.no_grad():\n",
        "    for batch_x, labels in test_loader:\n",
        "        batch_x, labels = batch_x.to(device), labels.to(device) # 將 images 和 labels 轉移至 GPU\n",
        "        outputs = model(batch_x)\n",
        "        outputs = outputs.squeeze(-1)\n",
        "\n",
        "        ##算準確率\n",
        "        predicted = (outputs > 0.5).float()\n",
        "        #print(predicted)\n",
        "        total += labels.size(0)\n",
        "        correct += (predicted == labels.float()).sum().item()\n",
        "\n",
        "        #print(predicted, labels)\n",
        "\n",
        "accuracy_on_testData =  correct / total * 100\n",
        "print(f'Accuracy on test data: {accuracy_on_testData:.2f}%')\n"
      ],
      "metadata": {
        "colab": {
          "base_uri": "https://localhost:8080/"
        },
        "id": "Ib9TtBEyFxr5",
        "outputId": "fc05786b-4917-424d-d352-96d17d8ffb8e"
      },
      "execution_count": 17,
      "outputs": [
        {
          "output_type": "stream",
          "name": "stdout",
          "text": [
            "Accuracy on test data: 49.77%\n"
          ]
        }
      ]
    },
    {
      "cell_type": "code",
      "source": [],
      "metadata": {
        "id": "fS5ogD81F0UN"
      },
      "execution_count": 17,
      "outputs": []
    },
    {
      "cell_type": "markdown",
      "source": [
        "## 3.使用LSTM與CNN進行特徵層融合"
      ],
      "metadata": {
        "id": "1cgaHroAF5QJ"
      }
    },
    {
      "cell_type": "code",
      "source": [
        "import numpy as np\n",
        "import yfinance as yf\n",
        "import matplotlib.pyplot as plt\n",
        "import os\n",
        "import shutil\n",
        "import pandas as pd\n",
        "from ta.momentum import RSIIndicator\n",
        "from ta.trend import MACD\n",
        "from ta.volatility import BollingerBands"
      ],
      "metadata": {
        "id": "iTWDx5nvGsP2"
      },
      "execution_count": 18,
      "outputs": []
    },
    {
      "cell_type": "code",
      "source": [
        "stock_id = '3711.TW'\n",
        "\n",
        "#抓取特定時間\n",
        "start = dt.datetime(2020,1,1)\n",
        "end   = dt.datetime(2024, 10,10 )\n",
        "data = yf.download(stock_id, start= start, end=end)\n",
        "\n",
        "data = data.reset_index()\n",
        "data['Date'] = pd.to_datetime(data['Date'])\n",
        "data['Date'] = data['Date'].dt.strftime('%Y_%m_%d')\n",
        "\n",
        "data = data.droplevel('Ticker', axis=1) # 刪除 `Ticker` 這層索引\n",
        "data =data.drop(columns=['Adj Close'])  # 這是需要寫等於的。\n",
        "\n",
        "\n",
        "# 加入目標變數 (Diff)\n",
        "data['Next_close'] = data['Close'].shift(-1)\n",
        "data['Diff'] = (data['Next_close'] > data['Close']).astype('int')\n",
        "data = data.dropna()  # 確保沒有 NaN 資料\n",
        "\n",
        "# 加入技術指標\n",
        "data['SMA_5'] = data['Close'].rolling(window=5).mean()\n",
        "data['SMA_20'] = data['Close'].rolling(window=20).mean()\n",
        "\n",
        "rsi = RSIIndicator(close=data['Close'], window=14)\n",
        "data['RSI_14'] = rsi.rsi()\n",
        "\n",
        "macd = MACD(close=data['Close'])\n",
        "data['MACD'] = macd.macd()\n",
        "data['MACD_signal'] = macd.macd_signal()\n",
        "\n",
        "bb = BollingerBands(close=data['Close'], window=20, window_dev=2)\n",
        "data['BB_upper'] = bb.bollinger_hband()\n",
        "data['BB_lower'] = bb.bollinger_lband()\n",
        "data['BB_width'] = data['BB_upper'] - data['BB_lower']\n",
        "\n",
        "data = data.dropna()"
      ],
      "metadata": {
        "colab": {
          "base_uri": "https://localhost:8080/"
        },
        "id": "Cn1mdfcdG89K",
        "outputId": "e3c0d8b8-e5f7-41fd-fb02-dcfd12882bed"
      },
      "execution_count": 19,
      "outputs": [
        {
          "output_type": "stream",
          "name": "stderr",
          "text": [
            "\r[*********************100%***********************]  1 of 1 completed\n"
          ]
        }
      ]
    },
    {
      "cell_type": "code",
      "source": [
        "## 準備劃K線圖的資料。\n",
        "twenty_days = []\n",
        "labels = []\n",
        "\n",
        "for i in range(len(data.values) -20):\n",
        "    #segment = data[['Open','High','Low','Close']].values[i:i+20]\n",
        "    segment = data[['Open', 'High', 'Low', 'Close', 'Volume',\n",
        "                    'SMA_5', 'SMA_20', 'RSI_14', 'MACD', 'BB_width']].values[i:i + 20]\n",
        "\n",
        "    twenty_days.append(segment)\n",
        "    labels.append(data['Diff'].values[i+19]) #他要是到19 就有答案了。\n"
      ],
      "metadata": {
        "id": "qLtOR3d8HGsB"
      },
      "execution_count": 20,
      "outputs": []
    },
    {
      "cell_type": "code",
      "source": [
        "# 分割訓練和測試集\n",
        "train_size = int(len(labels) * 0.8)\n",
        "train_x = np.array(twenty_days[:train_size], dtype=np.float32)\n",
        "test_x = np.array(twenty_days[train_size:], dtype=np.float32)\n",
        "\n",
        "train_y = np.array(labels[:train_size], dtype=np.float32)  ## 這裡是有時間的， 沒辦法直接這樣轉。\n",
        "test_y = np.array(labels[train_size:], dtype=np.float32)\n",
        "\n",
        "\n",
        "# 先處理 train_x\n",
        "train_rise_folder = './CNN_LSTM_data/train_folder_path/rise'\n",
        "train_fail_folder = './CNN_LSTM_data/train_folder_path/fail'\n",
        "test_rise_folder = './CNN_LSTM_data/test_folder_path/rise'\n",
        "test_fail_folder = './CNN_LSTM_data/test_folder_path/fail'\n"
      ],
      "metadata": {
        "id": "Om5f2ByvHI8T"
      },
      "execution_count": 21,
      "outputs": []
    },
    {
      "cell_type": "code",
      "source": [
        "train_rise_folder = './CNN_LSTM_data/train_folder_path/rise'\n",
        "train_fail_folder = './CNN_LSTM_data/train_folder_path/fail'\n",
        "test_rise_folder = './CNN_LSTM_data/test_folder_path/rise'\n",
        "test_fail_folder = './CNN_LSTM_data/test_folder_path/fail'\n",
        "\n",
        "for folder in [train_rise_folder, train_fail_folder, test_rise_folder, test_fail_folder]:\n",
        "    os.makedirs(folder, exist_ok=True)\n",
        "\n",
        "for idx, segment in enumerate(train_x):\n",
        "    #plt.figure(figsize=(1,1))\n",
        "    # 創建圖像\n",
        "    fig, ax = plt.subplots() # 設置圖像大小（英寸）和 DPI\n",
        "    fig.set_size_inches(0.5, 0.5)\n",
        "    for day_idx ,day in enumerate(segment):\n",
        "\n",
        "        Open_price, high_price , low_price, Close_price = map(int, day[0:4])\n",
        "        color = \"red\" if Close_price > Open_price else \"green\"\n",
        "\n",
        "        plt.bar(day_idx, abs(Close_price - Open_price), bottom=min(Open_price, Close_price), color=color, width=0.5)\n",
        "        plt.bar(day_idx, high_price - low_price, bottom=low_price,color=color, width=0.1 )\n",
        "\n",
        "    rise_or_fall = \"rise\" if train_y[idx] ==1 else \"fail\"\n",
        "    plt.axis('off')\n",
        "    if rise_or_fall == 'rise':\n",
        "        plt.savefig(f'{train_rise_folder}/{idx:05d}_{rise_or_fall}.png', format='png',dpi=100)  ## 儲存圖片\n",
        "    else:\n",
        "        plt.savefig(f'{train_fail_folder}/{idx:05d}_{rise_or_fall}.png', format='png',dpi=100)  ## 儲存圖片\n",
        "    plt.close()"
      ],
      "metadata": {
        "id": "KoUIBe17HNPQ"
      },
      "execution_count": 22,
      "outputs": []
    },
    {
      "cell_type": "code",
      "source": [
        "for idx, segment in enumerate(test_x):\n",
        "    fig, ax = plt.subplots() # 設置圖像大小（英寸）和 DPI\n",
        "    fig.set_size_inches(0.5, 0.5)\n",
        "    for day_idx ,day in enumerate(segment):\n",
        "        Open_price, high_price , low_price, Close_price = map(int, day[0:4])\n",
        "        color = \"red\" if Close_price > Open_price else \"green\"\n",
        "\n",
        "        plt.bar(day_idx, abs(Close_price - Open_price), bottom=min(Open_price, Close_price), color=color, width=0.5)\n",
        "        plt.bar(day_idx, high_price - low_price, bottom=low_price,color=color, width=0.1 )\n",
        "\n",
        "    rise_or_fall = \"rise\" if test_y[idx] ==1 else \"fail\"\n",
        "    plt.axis('off')\n",
        "    if rise_or_fall == 'rise':\n",
        "        plt.savefig(f'{test_rise_folder}/{(len(train_x)+idx):05d}_{rise_or_fall}.png', format='png',dpi=100)  ## 儲存圖片\n",
        "    else:\n",
        "        plt.savefig(f'{test_fail_folder}/{(len(train_x)+idx):05d}_{rise_or_fall}.png', format='png',dpi=100)  ## 儲存圖片\n",
        "    plt.close()"
      ],
      "metadata": {
        "id": "UxYFS5NvHXOR"
      },
      "execution_count": 23,
      "outputs": []
    },
    {
      "cell_type": "code",
      "source": [
        "import torch\n",
        "from torchvision import datasets, transforms\n",
        "# Dataset and DataLoader\n",
        "transform = transforms.Compose([\n",
        "    transforms.Resize((50, 50)),\n",
        "    transforms.ToTensor()\n",
        "    ])\n",
        "\n",
        "class FusionDataset(torch.utils.data.Dataset):\n",
        "    def __init__(self, lstm_data, lstm_labels, image_folder, transform=None):\n",
        "        self.lstm_data = lstm_data\n",
        "        self.lstm_labels = lstm_labels\n",
        "        self.image_data = datasets.ImageFolder(root=image_folder, transform= transform)\n",
        "\n",
        "    def __len__(self):\n",
        "        return len(self.lstm_data)\n",
        "\n",
        "    def __getitem__(self, idx):   ## 多思，如果他這樣寫，是什麼時候會需要被呼叫使用。\n",
        "        lstm_data = self.lstm_data[idx]\n",
        "        lstm_label = self.lstm_labels[idx]\n",
        "        cnn_image, cnn_label = self.image_data[idx]\n",
        "        return torch.FloatTensor(lstm_data), cnn_image, lstm_label\n",
        "\n",
        "CNN_train_path = './CNN_LSTM_data/train_folder_path/'\n",
        "CNN_test_path  = './CNN_LSTM_data/test_folder_path/'\n",
        "train_dataset = FusionDataset(lstm_data = train_x, lstm_labels = train_y, image_folder = CNN_train_path, transform= transform)\n",
        "test_dataset = FusionDataset(lstm_data = test_x, lstm_labels = test_y, image_folder = CNN_test_path, transform= transform)\n",
        "\n",
        "from torch.utils.data import DataLoader\n",
        "train_loader = DataLoader(train_dataset, batch_size=16, shuffle = True)\n",
        "test_loader  = DataLoader(test_dataset , batch_size=16, shuffle= False)\n"
      ],
      "metadata": {
        "id": "bUuKEy-GKc9U"
      },
      "execution_count": 24,
      "outputs": []
    },
    {
      "cell_type": "code",
      "source": [
        "#%% # 定義模型。 Fusion Model Definition\n",
        "import torch.nn as nn\n",
        "class FusionModel(nn.Module):\n",
        "    def __init__(self, lstm_input_size, cnn_input_shape):  ##多思， 它這裡只是先做定義而已。\n",
        "        super(FusionModel, self).__init__()\n",
        "        self.lstm = nn.LSTM(input_size = lstm_input_size, hidden_size = 64, num_layers=2 , batch_first=True)\n",
        "        self.lstm_fc = nn.Linear(in_features = 64, out_features = 32)\n",
        "\n",
        "        self.cnn = nn.Sequential(   ## 多思， 他這邊就用 Sequential 去做。  #自己要知道 Sequential 是要有逗號的。\n",
        "            nn.Conv2d(in_channels= 3 , out_channels=32, kernel_size=3, stride=1, padding=0),    #(50* 50)  -> (48 * 48)\n",
        "            nn.MaxPool2d(kernel_size=2, stride=2), ## (48, 48) -> (24,24)\n",
        "            nn.ReLU(),\n",
        "\n",
        "            nn.Conv2d(in_channels = 32, out_channels = 48, kernel_size = 3, stride=1, padding=0), #(24, 24) -> (22, 22)\n",
        "            nn.MaxPool2d(kernel_size=2, stride=2) , # (22, 22)  -> (11, 11)\n",
        "            nn.ReLU(),\n",
        "\n",
        "            nn.Conv2d(in_channels = 48, out_channels = 64, kernel_size = 3, stride=1, padding=0),  ## (11,11) -> (9, 9)\n",
        "            nn.MaxPool2d(kernel_size=2, stride=2),  #(9,9)  => (4,4)\n",
        "            nn.ReLU(),\n",
        "\n",
        "            nn.Conv2d(in_channels = 64, out_channels = 96, kernel_size = 3, stride=1, padding=0), ## (4*4 ) -> (2* 2)\n",
        "            nn.MaxPool2d(kernel_size=2, stride=2),  # (2* 2) -> (1* 1)\n",
        "            nn.ReLU(),\n",
        "\n",
        "            )\n",
        "        self.FusionPart = nn.Sequential(\n",
        "            nn.Linear(in_features = 32 + 96 , out_features = 256),\n",
        "            nn.ReLU(),\n",
        "            nn.Linear(in_features = 256 , out_features =32),\n",
        "            nn.ReLU(),\n",
        "            nn.Linear(in_features= 32, out_features = 1),\n",
        "            nn.Sigmoid()\n",
        "            )\n",
        "\n",
        "    def  forward(self, time_data, image_data):\n",
        "        lstm_out, _ = self.lstm(time_data)\n",
        "        lstm_feature = self.lstm_fc(lstm_out[:,-1, :]) #32\n",
        "\n",
        "        cnn_out = self.cnn(image_data)\n",
        "        cnn_out = cnn_out.view(cnn_out.size(0), -1) ##我要把它做攤平。 96\n",
        "\n",
        "        fused_feature = torch.cat((lstm_feature, cnn_out), dim=1)\n",
        "        fused_feature = self.FusionPart(fused_feature)\n",
        "\n",
        "        return fused_feature\n"
      ],
      "metadata": {
        "id": "BuvQcMmDIsSj"
      },
      "execution_count": 25,
      "outputs": []
    },
    {
      "cell_type": "code",
      "source": [
        "#%%  ## 我要去做訓練的動作了。\n",
        "import torch.optim as optim\n",
        "device = torch.device('cuda' if torch.cuda.is_available() else 'cpu')\n",
        "model = FusionModel(lstm_input_size = 10 , cnn_input_shape =(3, 50, 50) ).to(device)\n",
        "loss_func = nn.BCELoss()\n",
        "optimizer = optim.Adam(model.parameters(), lr = 0.001)\n",
        "\n",
        "\n",
        "num_epochs = 50\n",
        "for epoch in range(num_epochs):\n",
        "    model.train()\n",
        "    total_loss, correct, total = 0, 0, 0  ##多思， 他這樣也有要計算correct 的想法。\n",
        "\n",
        "    for lstm_data, cnn_data, labels in train_loader: #多思，我們看這個， 它是可以一次全部的喔!!， 讚讚。\n",
        "        lstm_data, cnn_data, labels = lstm_data.to(device), cnn_data.to(device), labels.to(device)\n",
        "\n",
        "        optimizer.zero_grad()\n",
        "        output = model(lstm_data, cnn_data)\n",
        "        output = output.squeeze(-1)\n",
        "        loss  = loss_func(output, labels)\n",
        "        loss.backward()\n",
        "        optimizer.step()\n",
        "\n",
        "        total_loss += loss.item()    ## 多思， 這個loss 要去除嗎? 它怎麼沒有這樣去做???\n",
        "        predicted = (output > 0.5).float()  ## 多思，這是要去做它輸出的結果。\n",
        "        correct += (predicted == labels).sum().item()\n",
        "        total += labels.size(0)  ## 多思， 這算總和的方式是這樣去算的。\n",
        "\n",
        "    accuracy = correct / total\n",
        "    avg_loss = total_loss / len(train_loader)\n",
        "    print(f\"Epoch [{epoch + 1}/{num_epochs}], Loss: {avg_loss:.4f}, Accuracy: {accuracy:.4f}\")\n"
      ],
      "metadata": {
        "colab": {
          "base_uri": "https://localhost:8080/"
        },
        "id": "vYBEGkCXKjMY",
        "outputId": "b2d7678e-cbc2-4a4b-f2af-f4a7cb5d3505"
      },
      "execution_count": 26,
      "outputs": [
        {
          "output_type": "stream",
          "name": "stdout",
          "text": [
            "Epoch [1/50], Loss: 0.6932, Accuracy: 0.5187\n",
            "Epoch [2/50], Loss: 0.6927, Accuracy: 0.5187\n",
            "Epoch [3/50], Loss: 0.6927, Accuracy: 0.5187\n",
            "Epoch [4/50], Loss: 0.6933, Accuracy: 0.5187\n",
            "Epoch [5/50], Loss: 0.6932, Accuracy: 0.5187\n",
            "Epoch [6/50], Loss: 0.6927, Accuracy: 0.5187\n",
            "Epoch [7/50], Loss: 0.6931, Accuracy: 0.5187\n",
            "Epoch [8/50], Loss: 0.6931, Accuracy: 0.5187\n",
            "Epoch [9/50], Loss: 0.6924, Accuracy: 0.5187\n",
            "Epoch [10/50], Loss: 0.6929, Accuracy: 0.5187\n",
            "Epoch [11/50], Loss: 0.6929, Accuracy: 0.5187\n",
            "Epoch [12/50], Loss: 0.6927, Accuracy: 0.5187\n",
            "Epoch [13/50], Loss: 0.6923, Accuracy: 0.5187\n",
            "Epoch [14/50], Loss: 0.6924, Accuracy: 0.5187\n",
            "Epoch [15/50], Loss: 0.6913, Accuracy: 0.5187\n",
            "Epoch [16/50], Loss: 0.6914, Accuracy: 0.5187\n",
            "Epoch [17/50], Loss: 0.6916, Accuracy: 0.5187\n",
            "Epoch [18/50], Loss: 0.6915, Accuracy: 0.5187\n",
            "Epoch [19/50], Loss: 0.6915, Accuracy: 0.5187\n",
            "Epoch [20/50], Loss: 0.6913, Accuracy: 0.5187\n",
            "Epoch [21/50], Loss: 0.6910, Accuracy: 0.5187\n",
            "Epoch [22/50], Loss: 0.6914, Accuracy: 0.5187\n",
            "Epoch [23/50], Loss: 0.6908, Accuracy: 0.5187\n",
            "Epoch [24/50], Loss: 0.6905, Accuracy: 0.5187\n",
            "Epoch [25/50], Loss: 0.6913, Accuracy: 0.5187\n",
            "Epoch [26/50], Loss: 0.6909, Accuracy: 0.5187\n",
            "Epoch [27/50], Loss: 0.6917, Accuracy: 0.5187\n",
            "Epoch [28/50], Loss: 0.6921, Accuracy: 0.4972\n",
            "Epoch [29/50], Loss: 0.6911, Accuracy: 0.5187\n",
            "Epoch [30/50], Loss: 0.6916, Accuracy: 0.5187\n",
            "Epoch [31/50], Loss: 0.6909, Accuracy: 0.5187\n",
            "Epoch [32/50], Loss: 0.6911, Accuracy: 0.5198\n",
            "Epoch [33/50], Loss: 0.6916, Accuracy: 0.5187\n",
            "Epoch [34/50], Loss: 0.6911, Accuracy: 0.5198\n",
            "Epoch [35/50], Loss: 0.6965, Accuracy: 0.5119\n",
            "Epoch [36/50], Loss: 0.6918, Accuracy: 0.5187\n",
            "Epoch [37/50], Loss: 0.6910, Accuracy: 0.5198\n",
            "Epoch [38/50], Loss: 0.6884, Accuracy: 0.5198\n",
            "Epoch [39/50], Loss: 0.6908, Accuracy: 0.5198\n",
            "Epoch [40/50], Loss: 0.6907, Accuracy: 0.5198\n",
            "Epoch [41/50], Loss: 0.6902, Accuracy: 0.5255\n",
            "Epoch [42/50], Loss: 0.6867, Accuracy: 0.5300\n",
            "Epoch [43/50], Loss: 0.6835, Accuracy: 0.5413\n",
            "Epoch [44/50], Loss: 0.6860, Accuracy: 0.5402\n",
            "Epoch [45/50], Loss: 0.6858, Accuracy: 0.5425\n",
            "Epoch [46/50], Loss: 0.6803, Accuracy: 0.5459\n",
            "Epoch [47/50], Loss: 0.6815, Accuracy: 0.5481\n",
            "Epoch [48/50], Loss: 0.6782, Accuracy: 0.5561\n",
            "Epoch [49/50], Loss: 0.6742, Accuracy: 0.5595\n",
            "Epoch [50/50], Loss: 0.6699, Accuracy: 0.5606\n"
          ]
        }
      ]
    },
    {
      "cell_type": "code",
      "source": [
        "#%%   ## 進行評估。\n",
        "\n",
        "model.eval()\n",
        "correct, total = 0, 0\n",
        "\n",
        "with torch.no_grad():\n",
        "    for lstm_data, cnn_data, labels in test_loader:\n",
        "        lstm_data, cnn_data, labels = lstm_data.to(device), cnn_data.to(device), labels.to(device)\n",
        "\n",
        "        output = model(lstm_data, cnn_data)\n",
        "        output = output.squeeze(-1)\n",
        "        predicted = (output > 0.5).float()\n",
        "\n",
        "        correct += (predicted == labels).sum().item()\n",
        "        total += labels.size(0)\n",
        "\n",
        "test_accuracy = correct /total\n",
        "print(f\"Test Accuracy: {test_accuracy:.4f}\")"
      ],
      "metadata": {
        "colab": {
          "base_uri": "https://localhost:8080/"
        },
        "id": "9yrGiFauKnDb",
        "outputId": "093fc18a-8678-4ecd-a3f2-cd0f04508a9a"
      },
      "execution_count": 27,
      "outputs": [
        {
          "output_type": "stream",
          "name": "stdout",
          "text": [
            "Test Accuracy: 0.5023\n"
          ]
        }
      ]
    },
    {
      "cell_type": "code",
      "source": [],
      "metadata": {
        "id": "Z1fEWK5tLeXU"
      },
      "execution_count": 27,
      "outputs": []
    },
    {
      "cell_type": "markdown",
      "source": [
        "## 4.CNN+LSTM 決策層融合"
      ],
      "metadata": {
        "id": "5PpSac5uQj1Y"
      }
    },
    {
      "cell_type": "code",
      "source": [
        "import numpy as np\n",
        "import yfinance as yf\n",
        "import matplotlib.pyplot as plt\n",
        "import os\n",
        "import shutil\n",
        "import pandas as pd\n",
        "\n",
        "from ta.momentum import RSIIndicator\n",
        "from ta.trend import MACD\n",
        "from ta.volatility import BollingerBands\n",
        "import datetime as dt"
      ],
      "metadata": {
        "id": "J6CvETxdQoTw"
      },
      "execution_count": 28,
      "outputs": []
    },
    {
      "cell_type": "code",
      "source": [
        "stock_id = '3711.TW'\n",
        "\n",
        "#抓取特定時間\n",
        "start = dt.datetime(2020,1,1)\n",
        "end   = dt.datetime(2024, 10,10 )\n",
        "data = yf.download(stock_id, start= start, end=end)\n",
        "\n",
        "data = data.reset_index()\n",
        "data['Date'] = pd.to_datetime(data['Date']) ## 讓她是時間間數據。\n",
        "data['Date'] = data['Date'].dt.strftime('%Y_%m_%d')\n",
        "\n",
        "data = data.droplevel('Ticker', axis=1) # 刪除 `Ticker` 這層索引\n",
        "data =data.drop(columns=['Adj Close'])  # 這是需要寫等於的。\n",
        "\n",
        "# 加入目標變數。\n",
        "data['Next_close'] = data['Close'].shift(-1) ## 將Close 欄位向上移動一行， 這樣'Next_Close' 會是下一天收盤價。\n",
        "data['Diff'] = (data['Next_close'] > data['Close']).astype('int') ## 比較 'Next_Close' 和 'Close'，大於為1 ， 小於為0。 1代表漲的意識， 0 代表跌的意識。\n",
        "#print(data.head(5))\n",
        "\n",
        "\n",
        "# 加入技術指標。\n",
        "data['SMA_5'] = data['Close'].rolling(window=5).mean()\n",
        "data['SMA_20'] = data['Close'].rolling(window=20).mean()\n",
        "\n",
        "rsi = RSIIndicator(close=data['Close'], window=14)\n",
        "data['RSI_14'] = rsi.rsi()\n",
        "\n",
        "macd = MACD(close=data['Close'])\n",
        "data['MACD'] = macd.macd()\n",
        "data['MACD_signal'] = macd.macd_signal()\n",
        "\n",
        "bb = BollingerBands(close=data['Close'], window=20, window_dev=2)\n",
        "data['BB_upper'] = bb.bollinger_hband()\n",
        "data['BB_lower'] = bb.bollinger_lband()\n",
        "data['BB_width'] = data['BB_upper'] - data['BB_lower']\n",
        "data = data.dropna()\n"
      ],
      "metadata": {
        "colab": {
          "base_uri": "https://localhost:8080/"
        },
        "id": "PR_t-BRXQqCj",
        "outputId": "b14914e5-1a11-41e9-ceff-b9fbc6c1cbd0"
      },
      "execution_count": 29,
      "outputs": [
        {
          "output_type": "stream",
          "name": "stderr",
          "text": [
            "\r[*********************100%***********************]  1 of 1 completed\n"
          ]
        }
      ]
    },
    {
      "cell_type": "code",
      "source": [
        "## 準備劃K線圖的資料。\n",
        "twenty_days = []\n",
        "labels = []\n",
        "\n",
        "for i in range(len(data.values) -20):\n",
        "    #segment = data[['Open','High','Low','Close']].values[i:i+20]\n",
        "    segment = data[['Open', 'High', 'Low', 'Close', 'Volume',\n",
        "                    'SMA_5', 'SMA_20', 'RSI_14', 'MACD', 'BB_width']].values[i:i + 20]\n",
        "\n",
        "    twenty_days.append(segment)\n",
        "    labels.append(data['Diff'].values[i+19]) #他要是到19 就有答案了。"
      ],
      "metadata": {
        "id": "8pEdUlXQQtqH"
      },
      "execution_count": 30,
      "outputs": []
    },
    {
      "cell_type": "code",
      "source": [
        "# 分割訓練和測試集\n",
        "train_size = int(len(labels) * 0.8)\n",
        "train_x = np.array(twenty_days[:train_size], dtype=np.float32)\n",
        "test_x = np.array(twenty_days[train_size:], dtype=np.float32)\n",
        "\n",
        "train_y = np.array(labels[:train_size], dtype=np.float32)  ## 這裡是有時間的， 沒辦法直接這樣轉。\n",
        "test_y = np.array(labels[train_size:], dtype=np.float32)\n"
      ],
      "metadata": {
        "id": "K_cjLxdqQxdj"
      },
      "execution_count": 31,
      "outputs": []
    },
    {
      "cell_type": "code",
      "source": [
        "train_rise_folder = './late_CNN_LSTM_data/train_folder_path/rise'\n",
        "train_fail_folder = './late_CNN_LSTM_data/train_folder_path/fail'\n",
        "test_rise_folder = './late_CNN_LSTM_data/test_folder_path/rise'\n",
        "test_fail_folder = './late_CNN_LSTM_data/test_folder_path/fail'\n",
        "\n",
        "for folder in [train_rise_folder, train_fail_folder, test_rise_folder, test_fail_folder]:\n",
        "    os.makedirs(folder, exist_ok=True)"
      ],
      "metadata": {
        "id": "EDXOHl3PQzcv"
      },
      "execution_count": 32,
      "outputs": []
    },
    {
      "cell_type": "code",
      "source": [
        "for idx, segment in enumerate(train_x):\n",
        "    # 創建圖像\n",
        "    fig, ax = plt.subplots() # 設置圖像大小（英寸）和 DPI\n",
        "    fig.set_size_inches(0.5, 0.5)\n",
        "    for day_idx ,day in enumerate(segment):\n",
        "\n",
        "\n",
        "        Open_price, high_price , low_price, Close_price = map(int, day[0:4])\n",
        "        color = \"red\" if Close_price > Open_price else \"green\"\n",
        "\n",
        "        plt.bar(day_idx, abs(Close_price - Open_price), bottom=min(Open_price, Close_price), color=color, width=0.5)\n",
        "        plt.bar(day_idx, high_price - low_price, bottom=low_price,color=color, width=0.1 )\n",
        "\n",
        "    rise_or_fall = \"rise\" if train_y[idx] ==1 else \"fail\"\n",
        "    plt.axis('off')\n",
        "    if rise_or_fall == 'rise':\n",
        "        plt.savefig(f'{train_rise_folder}/{idx:05d}_{rise_or_fall}.png', format='png',dpi=100)  ## 儲存圖片\n",
        "    else:\n",
        "        plt.savefig(f'{train_fail_folder}/{idx:05d}_{rise_or_fall}.png', format='png',dpi=100)  ## 儲存圖片\n",
        "    plt.close()\n",
        ""
      ],
      "metadata": {
        "id": "EkCZH-h2Q2vq"
      },
      "execution_count": 33,
      "outputs": []
    },
    {
      "cell_type": "code",
      "source": [
        "for idx, segment in enumerate(test_x):\n",
        "    fig, ax = plt.subplots() # 設置圖像大小（英寸）和 DPI\n",
        "    fig.set_size_inches(0.5, 0.5)\n",
        "    for day_idx ,day in enumerate(segment):\n",
        "        Open_price, high_price , low_price, Close_price = map(int, day[0:4])\n",
        "        color = \"red\" if Close_price > Open_price else \"green\"\n",
        "\n",
        "        plt.bar(day_idx, abs(Close_price - Open_price), bottom=min(Open_price, Close_price), color=color, width=0.5)\n",
        "        plt.bar(day_idx, high_price - low_price, bottom=low_price,color=color, width=0.1 )\n",
        "\n",
        "    rise_or_fall = \"rise\" if test_y[idx] ==1 else \"fail\"\n",
        "    plt.axis('off')\n",
        "    if rise_or_fall == 'rise':\n",
        "        plt.savefig(f'{test_rise_folder}/{(len(train_x)+idx):05d}_{rise_or_fall}.png', format='png',dpi=100)  ## 儲存圖片\n",
        "    else:\n",
        "        plt.savefig(f'{test_fail_folder}/{(len(train_x)+idx):05d}_{rise_or_fall}.png', format='png',dpi=100)  ## 儲存圖片\n",
        "    plt.close()"
      ],
      "metadata": {
        "id": "TPVfu8xLQ8oP"
      },
      "execution_count": 34,
      "outputs": []
    },
    {
      "cell_type": "code",
      "source": [
        "import torch\n",
        "from torchvision import datasets, transforms\n",
        "# Dataset and DataLoader\n",
        "transform = transforms.Compose([\n",
        "    transforms.Resize((50, 50)),\n",
        "    transforms.ToTensor()\n",
        "    ])\n",
        "\n",
        "class FusionDataset(torch.utils.data.Dataset):\n",
        "    def __init__(self, lstm_data, lstm_labels, image_folder, transform=None):\n",
        "        self.lstm_data = lstm_data\n",
        "        self.lstm_labels = lstm_labels\n",
        "        self.image_data = datasets.ImageFolder(root=image_folder, transform= transform)\n",
        "\n",
        "    def __len__(self):\n",
        "        return len(self.lstm_data)\n",
        "\n",
        "    def __getitem__(self, idx):   ## 多思，如果他這樣寫，是什麼時候會需要被呼叫使用。\n",
        "        lstm_data = self.lstm_data[idx]\n",
        "        lstm_label = self.lstm_labels[idx]\n",
        "        cnn_image, cnn_label = self.image_data[idx]\n",
        "        return torch.FloatTensor(lstm_data), cnn_image, lstm_label\n",
        "\n",
        "CNN_train_path = './late_CNN_LSTM_data/train_folder_path/'\n",
        "CNN_test_path  = './late_CNN_LSTM_data/test_folder_path/'\n",
        "train_dataset = FusionDataset(lstm_data = train_x, lstm_labels = train_y, image_folder = CNN_train_path, transform= transform)\n",
        "test_dataset = FusionDataset(lstm_data = test_x, lstm_labels = test_y, image_folder = CNN_test_path, transform= transform)\n",
        "\n",
        "from torch.utils.data import DataLoader\n",
        "train_loader = DataLoader(train_dataset, batch_size=16, shuffle = True)\n",
        "test_loader  = DataLoader(test_dataset , batch_size=16, shuffle= False)\n"
      ],
      "metadata": {
        "id": "xDs5kcpTRYK7"
      },
      "execution_count": 35,
      "outputs": []
    },
    {
      "cell_type": "code",
      "source": [
        "import torch\n",
        "import torch.nn as nn\n",
        "import torch.optim as optim\n",
        "from torch.utils.data import DataLoader"
      ],
      "metadata": {
        "id": "ToNY2YhvSGaq"
      },
      "execution_count": 36,
      "outputs": []
    },
    {
      "cell_type": "code",
      "source": [
        "#%% 定義模型結構\n",
        "class MLP_FusionModel(nn.Module):\n",
        "    def __init__(self):\n",
        "        super(MLP_FusionModel, self).__init__()\n",
        "        self.linear = nn.Sequential(\n",
        "            nn.Linear(in_features=2, out_features=16),\n",
        "            nn.ReLU(),\n",
        "            nn.Linear(in_features=16, out_features=4),\n",
        "            nn.ReLU(),\n",
        "            nn.Linear(in_features=4, out_features=1),\n",
        "            nn.Sigmoid()\n",
        "        )\n",
        "\n",
        "    def forward(self, LSTM_value, CNN_value):\n",
        "        fused_feature = torch.cat((LSTM_value, CNN_value), dim=1)\n",
        "        out = self.linear(fused_feature)\n",
        "        return out\n",
        "\n",
        "\n",
        "class CNN_Model(nn.Module):\n",
        "    def __init__(self):\n",
        "        super(CNN_Model, self).__init__()\n",
        "        self.cnn = nn.Sequential(\n",
        "            nn.Conv2d(in_channels=3, out_channels=32, kernel_size=3, stride=1, padding=0),\n",
        "            nn.MaxPool2d(kernel_size=2, stride=2),\n",
        "            nn.ReLU(),\n",
        "            nn.Conv2d(in_channels=32, out_channels=48, kernel_size=3, stride=1, padding=0),\n",
        "            nn.MaxPool2d(kernel_size=2, stride=2),\n",
        "            nn.ReLU(),\n",
        "            nn.Conv2d(in_channels=48, out_channels=64, kernel_size=3, stride=1, padding=0),\n",
        "            nn.MaxPool2d(kernel_size=2, stride=2),\n",
        "            nn.ReLU(),\n",
        "            nn.Conv2d(in_channels=64, out_channels=96, kernel_size=3, stride=1, padding=0),\n",
        "            nn.MaxPool2d(kernel_size=2, stride=2),\n",
        "            nn.ReLU()\n",
        "        )\n",
        "        self.linear = nn.Sequential(\n",
        "            nn.Linear(in_features=96, out_features=64),\n",
        "            nn.ReLU(),\n",
        "            nn.Linear(in_features=64, out_features=32),\n",
        "            nn.ReLU(),\n",
        "            nn.Linear(in_features=32, out_features=1),\n",
        "            nn.Sigmoid()\n",
        "        )\n",
        "\n",
        "    def forward(self, x):\n",
        "        out = self.cnn(x)\n",
        "        cnn_out = out.view(out.size(0), -1)  # 攤平處理\n",
        "        linear_out = self.linear(cnn_out)\n",
        "        return linear_out\n",
        "\n",
        "\n",
        "class LSTMModel(nn.Module):\n",
        "    def __init__(self):\n",
        "        super(LSTMModel, self).__init__()\n",
        "        self.lstm1 = nn.LSTM(input_size=10, hidden_size=64, num_layers=1, batch_first=True)\n",
        "        self.relu1 = nn.ReLU()\n",
        "        self.lstm2 = nn.LSTM(input_size=64, hidden_size=32, num_layers=1, batch_first=True)\n",
        "        self.relu2 = nn.ReLU()\n",
        "        self.fc = nn.Sequential(\n",
        "            nn.Linear(in_features=32, out_features=64),\n",
        "            nn.ReLU(),\n",
        "            nn.Linear(in_features=64, out_features=32),\n",
        "            nn.ReLU(),\n",
        "            nn.Linear(in_features=32, out_features=1),\n",
        "            nn.Sigmoid()\n",
        "        )\n",
        "\n",
        "    def forward(self, x):\n",
        "        out, _ = self.lstm1(x)\n",
        "        out = self.relu1(out)\n",
        "        out, _ = self.lstm2(out)\n",
        "        out = self.relu2(out)\n",
        "        out = out[:, -1, :]  # 取最後一個時間步\n",
        "        out = self.fc(out)\n",
        "        return out\n",
        "\n"
      ],
      "metadata": {
        "id": "9VfUdYAHSGwg"
      },
      "execution_count": 37,
      "outputs": []
    },
    {
      "cell_type": "code",
      "source": [
        "#%% 設定設備與載入模型\n",
        "device = torch.device('cuda' if torch.cuda.is_available() else 'cpu')\n",
        "\n",
        "CNN_model = CNN_Model().to(device)\n",
        "LSTM_model = LSTMModel().to(device)\n",
        "MLP_model = MLP_FusionModel().to(device)"
      ],
      "metadata": {
        "id": "aatPIXcoSGzV"
      },
      "execution_count": 38,
      "outputs": []
    },
    {
      "cell_type": "code",
      "source": [
        "#%% 設定訓練與驗證函數\n",
        "def train_epoch(train_loader, models, optimizer, loss_func, device):\n",
        "    CNN_model, LSTM_model, MLP_model = models\n",
        "    CNN_model.train()\n",
        "    LSTM_model.train()\n",
        "    MLP_model.train()\n",
        "    total_loss, correct, total = 0, 0, 0\n",
        "\n",
        "    for lstm_data, cnn_data, labels in train_loader:\n",
        "        lstm_data, cnn_data, labels = lstm_data.to(device), cnn_data.to(device), labels.to(device)\n",
        "        optimizer.zero_grad()\n",
        "\n",
        "        lstm_value = LSTM_model(lstm_data)\n",
        "        cnn_value = CNN_model(cnn_data)\n",
        "        output = MLP_model(lstm_value, cnn_value).squeeze(-1)\n",
        "\n",
        "        loss = loss_func(output, labels)\n",
        "        loss.backward()\n",
        "        optimizer.step()\n",
        "\n",
        "        total_loss += loss.item()\n",
        "        predicted = (output > 0.5).float()\n",
        "        correct += (predicted == labels).sum().item()\n",
        "        total += labels.size(0)\n",
        "\n",
        "    return total_loss / len(train_loader), correct / total\n",
        "\n",
        "\n",
        "def evaluate(val_loader, models, loss_func, device):\n",
        "    CNN_model, LSTM_model, MLP_model = models\n",
        "    CNN_model.eval()\n",
        "    LSTM_model.eval()\n",
        "    MLP_model.eval()\n",
        "    total_loss, correct, total = 0, 0, 0\n",
        "\n",
        "    with torch.no_grad():\n",
        "        for lstm_data, cnn_data, labels in val_loader:\n",
        "            lstm_data, cnn_data, labels = lstm_data.to(device), cnn_data.to(device), labels.to(device)\n",
        "            lstm_value = LSTM_model(lstm_data)\n",
        "            cnn_value = CNN_model(cnn_data)\n",
        "            output = MLP_model(lstm_value, cnn_value).squeeze(-1)\n",
        "\n",
        "            loss = loss_func(output, labels)\n",
        "            total_loss += loss.item()\n",
        "            predicted = (output > 0.5).float()\n",
        "            correct += (predicted == labels).sum().item()\n",
        "            total += labels.size(0)\n",
        "\n",
        "    return total_loss / len(val_loader), correct / total"
      ],
      "metadata": {
        "id": "27zheRu5SWBk"
      },
      "execution_count": 39,
      "outputs": []
    },
    {
      "cell_type": "code",
      "source": [
        "#%% 訓練流程\n",
        "loss_func = nn.BCELoss()\n",
        "optimizer = optim.Adam(MLP_model.parameters(), lr=0.001)\n",
        "\n",
        "num_epochs = 50\n",
        "for epoch in range(num_epochs):\n",
        "    train_loss, train_acc = train_epoch(train_loader, (CNN_model, LSTM_model, MLP_model), optimizer, loss_func, device)\n",
        "    val_loss, val_acc = evaluate(test_loader, (CNN_model, LSTM_model, MLP_model), loss_func, device)\n",
        "\n",
        "    print(f\"Epoch [{epoch + 1}/{num_epochs}]\")\n",
        "    print(f\"Train Loss: {train_loss:.4f}, Train Accuracy: {train_acc:.4f}\")\n",
        "    print(f\"Validation Loss: {val_loss:.4f}, Validation Accuracy: {val_acc:.4f}\")\n",
        "\n"
      ],
      "metadata": {
        "colab": {
          "base_uri": "https://localhost:8080/"
        },
        "id": "61bLAuyGSWII",
        "outputId": "a246bf5b-cad1-4c01-da43-8ec44119f89a"
      },
      "execution_count": 40,
      "outputs": [
        {
          "output_type": "stream",
          "name": "stdout",
          "text": [
            "Epoch [1/50]\n",
            "Train Loss: 0.6932, Train Accuracy: 0.5187\n",
            "Validation Loss: 0.6965, Validation Accuracy: 0.5023\n",
            "Epoch [2/50]\n",
            "Train Loss: 0.6926, Train Accuracy: 0.5187\n",
            "Validation Loss: 0.6958, Validation Accuracy: 0.5023\n",
            "Epoch [3/50]\n",
            "Train Loss: 0.6937, Train Accuracy: 0.5187\n",
            "Validation Loss: 0.6953, Validation Accuracy: 0.5023\n",
            "Epoch [4/50]\n",
            "Train Loss: 0.6939, Train Accuracy: 0.5187\n",
            "Validation Loss: 0.6948, Validation Accuracy: 0.5023\n",
            "Epoch [5/50]\n",
            "Train Loss: 0.6932, Train Accuracy: 0.5187\n",
            "Validation Loss: 0.6943, Validation Accuracy: 0.5023\n",
            "Epoch [6/50]\n",
            "Train Loss: 0.6919, Train Accuracy: 0.5187\n",
            "Validation Loss: 0.6940, Validation Accuracy: 0.5023\n",
            "Epoch [7/50]\n",
            "Train Loss: 0.6924, Train Accuracy: 0.5187\n",
            "Validation Loss: 0.6940, Validation Accuracy: 0.5023\n",
            "Epoch [8/50]\n",
            "Train Loss: 0.6933, Train Accuracy: 0.5187\n",
            "Validation Loss: 0.6939, Validation Accuracy: 0.5023\n",
            "Epoch [9/50]\n",
            "Train Loss: 0.6927, Train Accuracy: 0.5187\n",
            "Validation Loss: 0.6937, Validation Accuracy: 0.5023\n",
            "Epoch [10/50]\n",
            "Train Loss: 0.6925, Train Accuracy: 0.5187\n",
            "Validation Loss: 0.6937, Validation Accuracy: 0.5023\n",
            "Epoch [11/50]\n",
            "Train Loss: 0.6923, Train Accuracy: 0.5187\n",
            "Validation Loss: 0.6936, Validation Accuracy: 0.5023\n",
            "Epoch [12/50]\n",
            "Train Loss: 0.6924, Train Accuracy: 0.5187\n",
            "Validation Loss: 0.6937, Validation Accuracy: 0.5023\n",
            "Epoch [13/50]\n",
            "Train Loss: 0.6928, Train Accuracy: 0.5187\n",
            "Validation Loss: 0.6937, Validation Accuracy: 0.5023\n",
            "Epoch [14/50]\n",
            "Train Loss: 0.6924, Train Accuracy: 0.5187\n",
            "Validation Loss: 0.6938, Validation Accuracy: 0.5023\n",
            "Epoch [15/50]\n",
            "Train Loss: 0.6923, Train Accuracy: 0.5187\n",
            "Validation Loss: 0.6937, Validation Accuracy: 0.5023\n",
            "Epoch [16/50]\n",
            "Train Loss: 0.6927, Train Accuracy: 0.5187\n",
            "Validation Loss: 0.6938, Validation Accuracy: 0.5023\n",
            "Epoch [17/50]\n",
            "Train Loss: 0.6924, Train Accuracy: 0.5187\n",
            "Validation Loss: 0.6937, Validation Accuracy: 0.5023\n",
            "Epoch [18/50]\n",
            "Train Loss: 0.6920, Train Accuracy: 0.5187\n",
            "Validation Loss: 0.6937, Validation Accuracy: 0.5023\n",
            "Epoch [19/50]\n",
            "Train Loss: 0.6923, Train Accuracy: 0.5187\n",
            "Validation Loss: 0.6939, Validation Accuracy: 0.5023\n",
            "Epoch [20/50]\n",
            "Train Loss: 0.6925, Train Accuracy: 0.5187\n",
            "Validation Loss: 0.6937, Validation Accuracy: 0.5023\n",
            "Epoch [21/50]\n",
            "Train Loss: 0.6930, Train Accuracy: 0.5187\n",
            "Validation Loss: 0.6940, Validation Accuracy: 0.5023\n",
            "Epoch [22/50]\n",
            "Train Loss: 0.6923, Train Accuracy: 0.5187\n",
            "Validation Loss: 0.6937, Validation Accuracy: 0.5023\n",
            "Epoch [23/50]\n",
            "Train Loss: 0.6925, Train Accuracy: 0.5187\n",
            "Validation Loss: 0.6936, Validation Accuracy: 0.5023\n",
            "Epoch [24/50]\n",
            "Train Loss: 0.6923, Train Accuracy: 0.5187\n",
            "Validation Loss: 0.6938, Validation Accuracy: 0.5023\n",
            "Epoch [25/50]\n",
            "Train Loss: 0.6921, Train Accuracy: 0.5187\n",
            "Validation Loss: 0.6938, Validation Accuracy: 0.5023\n",
            "Epoch [26/50]\n",
            "Train Loss: 0.6933, Train Accuracy: 0.5187\n",
            "Validation Loss: 0.6938, Validation Accuracy: 0.5023\n",
            "Epoch [27/50]\n",
            "Train Loss: 0.6923, Train Accuracy: 0.5187\n",
            "Validation Loss: 0.6936, Validation Accuracy: 0.5023\n",
            "Epoch [28/50]\n",
            "Train Loss: 0.6932, Train Accuracy: 0.5187\n",
            "Validation Loss: 0.6936, Validation Accuracy: 0.5023\n",
            "Epoch [29/50]\n",
            "Train Loss: 0.6928, Train Accuracy: 0.5187\n",
            "Validation Loss: 0.6935, Validation Accuracy: 0.5023\n",
            "Epoch [30/50]\n",
            "Train Loss: 0.6927, Train Accuracy: 0.5187\n",
            "Validation Loss: 0.6935, Validation Accuracy: 0.5023\n",
            "Epoch [31/50]\n",
            "Train Loss: 0.6921, Train Accuracy: 0.5187\n",
            "Validation Loss: 0.6935, Validation Accuracy: 0.5023\n",
            "Epoch [32/50]\n",
            "Train Loss: 0.6925, Train Accuracy: 0.5187\n",
            "Validation Loss: 0.6937, Validation Accuracy: 0.5023\n",
            "Epoch [33/50]\n",
            "Train Loss: 0.6924, Train Accuracy: 0.5187\n",
            "Validation Loss: 0.6938, Validation Accuracy: 0.5023\n",
            "Epoch [34/50]\n",
            "Train Loss: 0.6928, Train Accuracy: 0.5187\n",
            "Validation Loss: 0.6937, Validation Accuracy: 0.5023\n",
            "Epoch [35/50]\n",
            "Train Loss: 0.6921, Train Accuracy: 0.5187\n",
            "Validation Loss: 0.6936, Validation Accuracy: 0.5023\n",
            "Epoch [36/50]\n",
            "Train Loss: 0.6920, Train Accuracy: 0.5187\n",
            "Validation Loss: 0.6938, Validation Accuracy: 0.5023\n",
            "Epoch [37/50]\n",
            "Train Loss: 0.6923, Train Accuracy: 0.5187\n",
            "Validation Loss: 0.6939, Validation Accuracy: 0.5023\n",
            "Epoch [38/50]\n",
            "Train Loss: 0.6923, Train Accuracy: 0.5187\n",
            "Validation Loss: 0.6939, Validation Accuracy: 0.5023\n",
            "Epoch [39/50]\n",
            "Train Loss: 0.6928, Train Accuracy: 0.5187\n",
            "Validation Loss: 0.6937, Validation Accuracy: 0.5023\n",
            "Epoch [40/50]\n",
            "Train Loss: 0.6928, Train Accuracy: 0.5187\n",
            "Validation Loss: 0.6938, Validation Accuracy: 0.5023\n",
            "Epoch [41/50]\n",
            "Train Loss: 0.6925, Train Accuracy: 0.5187\n",
            "Validation Loss: 0.6936, Validation Accuracy: 0.5023\n",
            "Epoch [42/50]\n",
            "Train Loss: 0.6924, Train Accuracy: 0.5187\n",
            "Validation Loss: 0.6937, Validation Accuracy: 0.5023\n",
            "Epoch [43/50]\n",
            "Train Loss: 0.6924, Train Accuracy: 0.5187\n",
            "Validation Loss: 0.6937, Validation Accuracy: 0.5023\n",
            "Epoch [44/50]\n",
            "Train Loss: 0.6931, Train Accuracy: 0.5187\n",
            "Validation Loss: 0.6937, Validation Accuracy: 0.5023\n",
            "Epoch [45/50]\n",
            "Train Loss: 0.6922, Train Accuracy: 0.5187\n",
            "Validation Loss: 0.6935, Validation Accuracy: 0.5023\n",
            "Epoch [46/50]\n",
            "Train Loss: 0.6919, Train Accuracy: 0.5187\n",
            "Validation Loss: 0.6938, Validation Accuracy: 0.5023\n",
            "Epoch [47/50]\n",
            "Train Loss: 0.6933, Train Accuracy: 0.5187\n",
            "Validation Loss: 0.6939, Validation Accuracy: 0.5023\n",
            "Epoch [48/50]\n",
            "Train Loss: 0.6928, Train Accuracy: 0.5187\n",
            "Validation Loss: 0.6936, Validation Accuracy: 0.5023\n",
            "Epoch [49/50]\n",
            "Train Loss: 0.6928, Train Accuracy: 0.5187\n",
            "Validation Loss: 0.6936, Validation Accuracy: 0.5023\n",
            "Epoch [50/50]\n",
            "Train Loss: 0.6931, Train Accuracy: 0.5187\n",
            "Validation Loss: 0.6936, Validation Accuracy: 0.5023\n"
          ]
        }
      ]
    },
    {
      "cell_type": "code",
      "source": [],
      "metadata": {
        "id": "9sOh3p6FSc96"
      },
      "execution_count": 40,
      "outputs": []
    }
  ]
}