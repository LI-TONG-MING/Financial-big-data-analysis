{
  "nbformat": 4,
  "nbformat_minor": 0,
  "metadata": {
    "colab": {
      "provenance": []
    },
    "kernelspec": {
      "name": "python3",
      "display_name": "Python 3"
    },
    "language_info": {
      "name": "python"
    }
  },
  "cells": [
    {
      "cell_type": "markdown",
      "source": [
        "要實現基因演算法來選擇最佳投資組合，可以按照下步驟來進行。\n",
        "\n",
        "\n",
        "1.   初始化參數:\n",
        "  *   定義投資組合大小(股票數量)。\n",
        "  *   設置族群大小、疊待次數、突變率等參數。\n",
        "  *   準備股鰾的回報率和風險數據。\n",
        "\n",
        "\n",
        "2.   編碼染色體:\n",
        "  *   每個染色體是一個長度為股票數量的二進制向量，1表示選擇該股票，0表示不選擇。\n",
        "\n",
        "3.   適應度函數:\n",
        "  *   設計一個函數來計算每個投資組合的\"適應度\"。\n",
        "  *   可以考慮Sharpe比率 或其他指標: 例如Sharpe 比率 = (回報率的期望- 無風險利率)/ 回報率表準差\n",
        "  *   或者簡單地綜合回報率和風險:\n",
        "    Fitness = 回報率 - a * 風險\n",
        "    其中 a 是一個調節參數。\n",
        "\n",
        "4.   初始化族群:\n",
        "  *   隨機生成若干個染色體，構成初始族群。\n",
        "\n",
        "5.   選擇:\n",
        "  *   根據適應度值進行選擇，可以使用輪盤選擇(Roulette Wheel Selection)或錦標賽選擇(Tornament Selection)。\n",
        "\n",
        "6.   交配(Crossover):\n",
        "  *   隨機選擇兩個染色體進行交配，生成新的染色體。\n",
        "  *   可以使用單點交配、多點交配或均勻交配。\n",
        "7.   突變(Mutation):\n",
        "*   對染色體終的基因進行隨機翻轉(0變1，1變0)，突變的概率由設定的突變率決定。\n",
        "\n",
        "8.   進行疊待:\n",
        "*   重複選擇、交配、突變、生成新一代族群。\n",
        "*   在若千疊待後，選擇適應度最高的染色體作為最佳解。\n",
        "\n",
        "9.   輸出結果:\n",
        "*   根據最佳染色體輸出最優投資組合、回報率、風險等結果。\n",
        "\n",
        "\n",
        "\n",
        "\n",
        "\n",
        "\n",
        "\n",
        "\n",
        "\n",
        "\n",
        "\n",
        "\n",
        "\n",
        "\n",
        "\n",
        "\n"
      ],
      "metadata": {
        "id": "BRivDBIdNrVa"
      }
    },
    {
      "cell_type": "code",
      "source": [
        "import numpy as np"
      ],
      "metadata": {
        "id": "DtraBUocN3AH"
      },
      "execution_count": 1,
      "outputs": []
    },
    {
      "cell_type": "code",
      "source": [
        "## 股票數據\n",
        "num_stocks = 10 ## 股票數據\n",
        "returns = np.random.uniform(0.05, 0.2, num_stocks)  ## 隨機生成回報率\n",
        "risks = np.random.uniform(0.1, 0.3, num_stocks)  ##隨機生成風險\n",
        "alpha = 0.5 ##風險調節參數"
      ],
      "metadata": {
        "id": "F6gJc_uMVmKa"
      },
      "execution_count": 2,
      "outputs": []
    },
    {
      "cell_type": "code",
      "source": [
        "# 基因演算法參數\n",
        "population_size = 20 ## 群族大小\n",
        "num_generations = 50 ## 疊待次數\n",
        "mutation_rate = 0.1  ## 突變率"
      ],
      "metadata": {
        "id": "JeFx3qTvWGTR"
      },
      "execution_count": 3,
      "outputs": []
    },
    {
      "cell_type": "code",
      "source": [
        "## 適應度函數\n",
        "def fitness(chromosome):\n",
        "  total_return = np.sum(chromosome * returns)\n",
        "  total_risk = np.sum(chromosome * risks)\n",
        "  return total_return - alpha * total_risk"
      ],
      "metadata": {
        "id": "7EHiajB5W3aS"
      },
      "execution_count": 4,
      "outputs": []
    },
    {
      "cell_type": "code",
      "source": [
        "## 初始化族群\n",
        "def initialize_population(size, num_stocks):\n",
        "  return np.random.randint(0, 2, (size, num_stocks))"
      ],
      "metadata": {
        "id": "Jaqx6iXCXXtz"
      },
      "execution_count": 5,
      "outputs": []
    },
    {
      "cell_type": "code",
      "source": [
        "# 選擇（輪盤選擇，修正為非負數適應度）\n",
        "def select(population, fitness_values):\n",
        "    min_fitness = fitness_values.min()\n",
        "    if min_fitness < 0:\n",
        "        fitness_values -= min_fitness  # 偏移適應度值\n",
        "    probabilities = fitness_values / fitness_values.sum()\n",
        "    selected_indices = np.random.choice(len(population), size=len(population), p=probabilities)\n",
        "    return population[selected_indices]"
      ],
      "metadata": {
        "id": "Co6hOYO9Xn1s"
      },
      "execution_count": 6,
      "outputs": []
    },
    {
      "cell_type": "code",
      "source": [
        "# 單點交配\n",
        "def crossover(parent1, parent2):\n",
        "    point = np.random.randint(1, len(parent1) - 1)\n",
        "    child1 = np.concatenate([parent1[:point], parent2[point:]])\n",
        "    child2 = np.concatenate([parent2[:point], parent1[point:]])\n",
        "    return child1, child2"
      ],
      "metadata": {
        "id": "0q9B1ZrtXwWi"
      },
      "execution_count": 7,
      "outputs": []
    },
    {
      "cell_type": "code",
      "source": [
        "# 突變\n",
        "def mutate(chromosome, rate):\n",
        "    for i in range(len(chromosome)):\n",
        "        if np.random.rand() < rate:\n",
        "            chromosome[i] = 1 - chromosome[i]\n",
        "    return chromosome"
      ],
      "metadata": {
        "id": "WNpofPKKXxcs"
      },
      "execution_count": 8,
      "outputs": []
    },
    {
      "cell_type": "code",
      "source": [
        "# 主程式\n",
        "population = initialize_population(population_size, num_stocks)"
      ],
      "metadata": {
        "id": "BcTx_hRNXyns"
      },
      "execution_count": 9,
      "outputs": []
    },
    {
      "cell_type": "code",
      "source": [
        "for generation in range(num_generations):\n",
        "    # 計算適應度\n",
        "    fitness_values = np.array([fitness(ch) for ch in population])\n",
        "\n",
        "    # 選擇下一代\n",
        "    population = select(population, fitness_values)\n",
        "\n",
        "    # 交配\n",
        "    next_generation = []\n",
        "    for i in range(0, len(population), 2):\n",
        "        parent1, parent2 = population[i], population[(i+1) % len(population)]\n",
        "        child1, child2 = crossover(parent1, parent2)\n",
        "        next_generation.append(child1)\n",
        "        next_generation.append(child2)\n",
        "    population = np.array(next_generation)\n",
        "\n",
        "    # 突變\n",
        "    for i in range(len(population)):\n",
        "        population[i] = mutate(population[i], mutation_rate)"
      ],
      "metadata": {
        "id": "y3T5OfgwXzoz"
      },
      "execution_count": 10,
      "outputs": []
    },
    {
      "cell_type": "code",
      "source": [
        "# 輸出結果\n",
        "best_chromosome = population[np.argmax([fitness(ch) for ch in population])]\n",
        "best_return = np.sum(best_chromosome * returns)\n",
        "best_risk = np.sum(best_chromosome * risks)"
      ],
      "metadata": {
        "id": "2AxbDpPaX1m8"
      },
      "execution_count": 11,
      "outputs": []
    },
    {
      "cell_type": "code",
      "source": [
        "print(\"最佳投資組合:\", best_chromosome)\n",
        "print(\"預期回報率:\", best_return)\n",
        "print(\"總風險:\", best_risk)"
      ],
      "metadata": {
        "id": "XnTOGlfsYiWG",
        "outputId": "cac8ee08-ffa3-4ec1-dc13-d4e986467c96",
        "colab": {
          "base_uri": "https://localhost:8080/"
        }
      },
      "execution_count": 12,
      "outputs": [
        {
          "output_type": "stream",
          "name": "stdout",
          "text": [
            "最佳投資組合: [1 0 0 0 1 0 1 0 1 1]\n",
            "預期回報率: 0.7497220618321453\n",
            "總風險: 0.9472003618377993\n"
          ]
        }
      ]
    },
    {
      "cell_type": "code",
      "source": [],
      "metadata": {
        "id": "CrZEJPi5YkB_"
      },
      "execution_count": null,
      "outputs": []
    }
  ]
}