{
  "cells": [
    {
      "cell_type": "code",
      "execution_count": 1,
      "metadata": {
        "colab": {
          "base_uri": "https://localhost:8080/"
        },
        "id": "VJWX23ZuJt2f",
        "outputId": "bc68c5ed-29e0-44c7-ddce-73ae0e6dfb88"
      },
      "outputs": [
        {
          "output_type": "stream",
          "name": "stdout",
          "text": [
            "/content\n",
            "total 16\n",
            "drwxr-xr-x 1 root root 4096 Oct 24 13:20 .\n",
            "drwxr-xr-x 1 root root 4096 Oct 27 13:10 ..\n",
            "drwxr-xr-x 4 root root 4096 Oct 24 13:20 .config\n",
            "drwxr-xr-x 1 root root 4096 Oct 24 13:20 sample_data\n",
            "/content\n",
            "total 20\n",
            "drwxr-xr-x 1 root root 4096 Oct 27 13:15 .\n",
            "drwxr-xr-x 1 root root 4096 Oct 27 13:10 ..\n",
            "drwxr-xr-x 4 root root 4096 Oct 24 13:20 .config\n",
            "drwxr-xr-x 2 root root 4096 Oct 27 13:15 image\n",
            "drwxr-xr-x 1 root root 4096 Oct 24 13:20 sample_data\n"
          ]
        }
      ],
      "source": [
        "!pwd\n",
        "!ls -la\n",
        "!mkdir image\n",
        "!pwd\n",
        "!ls -la"
      ]
    },
    {
      "cell_type": "markdown",
      "metadata": {
        "id": "JYjCP0CQYcYm"
      },
      "source": [
        "# 這是程式第一段\n",
        "我要去把K線圖所繪製出來"
      ]
    },
    {
      "cell_type": "code",
      "execution_count": 2,
      "metadata": {
        "id": "lZ6Q8GfPyB2g"
      },
      "outputs": [],
      "source": [
        "import yfinance as yf\n",
        "import matplotlib.pyplot as plt"
      ]
    },
    {
      "cell_type": "code",
      "execution_count": 3,
      "metadata": {
        "id": "3rtz9gzcJ4S_"
      },
      "outputs": [],
      "source": [
        "taiwan_2330_stock = yf.Ticker(\"2330.TW\")      ## 我以台積電作為我的股票\n",
        "data  = taiwan_2330_stock.history(period=\"5y\")   ## 我抓取的時間是一年"
      ]
    },
    {
      "cell_type": "code",
      "execution_count": 4,
      "metadata": {
        "id": "gHr-1OXOJ6Z1"
      },
      "outputs": [],
      "source": [
        "K_data = data[['Open','Close','High','Low']]"
      ]
    },
    {
      "cell_type": "code",
      "execution_count": 5,
      "metadata": {
        "id": "K9ss7o7JJ8Ib"
      },
      "outputs": [],
      "source": [
        "i_number = 0\n",
        "ten_data = []"
      ]
    },
    {
      "cell_type": "code",
      "execution_count": 6,
      "metadata": {
        "id": "YXlrQnmIJ9sI"
      },
      "outputs": [],
      "source": [
        "for i in range(len(K_data.values) - 19):\n",
        "    #print(i)\n",
        "    ten_data.append([])\n",
        "    ten_data[i].append(K_data.values[i:i+20])"
      ]
    },
    {
      "cell_type": "code",
      "execution_count": 7,
      "metadata": {
        "colab": {
          "base_uri": "https://localhost:8080/",
          "height": 406
        },
        "id": "d3U8xVfqJ_UM",
        "outputId": "639f9084-827e-438f-d42e-4b31ce17af69"
      },
      "outputs": [
        {
          "output_type": "display_data",
          "data": {
            "text/plain": [
              "<Figure size 640x480 with 1 Axes>"
            ],
            "image/png": "[encoded data removed]"
          },
          "metadata": {}
        }
      ],
      "source": [
        "for idx1, ten_day in enumerate(ten_data):\n",
        "\n",
        "    ## 這裡是要判斷下次是漲還是跌\n",
        "    if idx1 < len(ten_data) -1 :\n",
        "        ## 取得下次的20 天 的值 ， 要判斷下次是漲，還是迭\n",
        "        next_ten = ten_data[idx1 + 1][0]\n",
        "        #print(next_ten)\n",
        "        next_close_list = []\n",
        "        for next_one in next_ten:\n",
        "            next_one_close = next_one[1]  ## 是看收盤價\n",
        "            next_close_list.append(next_one_close)\n",
        "        # 計算平均值\n",
        "        MA20 = sum(next_close_list) / len(next_close_list) if next_close_list else 0\n",
        "        MA10 = sum(next_close_list[-10:])/len(next_close_list[-10:]) if next_close_list[-10: ] else 0\n",
        "        #ans = ['漲' if MA10 > MA20 else '跌']\n",
        "        rise_fail_ans = 'rise' if MA10 > MA20 else 'fail'\n",
        "        #print(rise_fail_ans)\n",
        "    else:  # 最後一次沒有下次，我要壤它跳開了\n",
        "        break\n",
        "\n",
        "    #這裡是處理K線圖\n",
        "    for indx2, one_day in enumerate(ten_day[0]):\n",
        "        #print(one_day)\n",
        "        open_price = int(one_day[0])\n",
        "        close_price = int(one_day[1])\n",
        "        high_price = int(one_day[2])\n",
        "        low_price = int(one_day[3])\n",
        "\n",
        "        ## 決定陰線(下跌)或陽線(上長)\n",
        "        color = \"green\"\n",
        "        if close_price > open_price:\n",
        "            color = \"red\"\n",
        "\n",
        "        #plt.title(rise_fail_ans)\n",
        "        plt.axis('off')\n",
        "        plt.xticks([])\n",
        "        plt.yticks([])\n",
        "        #plt.ylim(0,10)\n",
        "        #化陰陽線\n",
        "        plt.bar(indx2,\n",
        "                abs(open_price - close_price),\n",
        "                bottom= min(open_price,close_price),\n",
        "                color=color,\n",
        "                width=0.5)\n",
        "        #畫影線\n",
        "        plt.bar(indx2, high_price- low_price,\n",
        "                bottom=low_price,\n",
        "                color=color,\n",
        "                width=0.1)\n",
        "\n",
        "    formatted_number = \"{:05d}\".format(idx1) ## 保持輸出的數字漂亮\n",
        "    # 儲存圖片\n",
        "    plt.savefig('image/'+str(formatted_number)+'_'+str(rise_fail_ans)+'.png', format='png', dpi=100)  # 儲存為 PNG 格式，解析度為 300 dp\n",
        "    if idx1 == 0:\n",
        "      plt.show()\n",
        "    plt.close()\n"
      ]
    },
    {
      "cell_type": "markdown",
      "metadata": {
        "id": "VbdMoLh5YjTp"
      },
      "source": [
        "# 這是程式第大二段\n",
        "我要分類訓練集與測試集圖片"
      ]
    },
    {
      "cell_type": "code",
      "execution_count": 8,
      "metadata": {
        "id": "sqTeTwYoKY1h"
      },
      "outputs": [],
      "source": [
        "import os\n",
        "import random\n",
        "import shutil ## 這是搬移圖片用的。\n",
        "image_list = os.listdir('./image/')"
      ]
    },
    {
      "cell_type": "code",
      "execution_count": 9,
      "metadata": {
        "id": "07v1AeRsSlHO"
      },
      "outputs": [],
      "source": [
        "## 我要打亂圖片順序\n",
        "random.seed(2)\n",
        "random.shuffle(image_list)  # 這個前面不能寫等於。\n",
        "train_size = int(len(image_list) * 0.8 )\n",
        "train_list = image_list[:train_size]\n",
        "test_list = image_list[train_size:]"
      ]
    },
    {
      "cell_type": "code",
      "execution_count": 10,
      "metadata": {
        "id": "bjawWHv4TRKL"
      },
      "outputs": [],
      "source": [
        "train_rise_folder_path = './train_folder_path/rise'\n",
        "train_fail_folder_path = './train_folder_path/fail'\n",
        "test_rise_folder_path = './test_folder_path/rise'\n",
        "test_fail_folder_path = './test_folder_path/fali'\n"
      ]
    },
    {
      "cell_type": "code",
      "execution_count": 11,
      "metadata": {
        "id": "Z3uHorJzTWR-",
        "colab": {
          "base_uri": "https://localhost:8080/"
        },
        "outputId": "ff1259f8-3500-4bef-8085-e932eb04c64a"
      },
      "outputs": [
        {
          "output_type": "stream",
          "name": "stdout",
          "text": [
            "資料夾./train_folder_path/rise 已建立。\n",
            "資料夾./train_folder_path/fail 已建立。\n",
            "資料夾./test_folder_path/rise 已建立。\n",
            "資料夾./test_folder_path/fali 已建立。\n"
          ]
        }
      ],
      "source": [
        "if not os.path.exists(train_rise_folder_path):\n",
        "    os.makedirs(train_rise_folder_path)\n",
        "    print(f\"資料夾{train_rise_folder_path} 已建立。\")\n",
        "\n",
        "# 檢查資料是否存在，不存在則建立\n",
        "if not os.path.exists(train_fail_folder_path):\n",
        "    os.makedirs(train_fail_folder_path)\n",
        "    print(f\"資料夾{train_fail_folder_path} 已建立。\")\n",
        "\n",
        "# 檢查資料是否存在，不存在則建立\n",
        "if not os.path.exists(test_rise_folder_path):\n",
        "    os.makedirs(test_rise_folder_path)\n",
        "    print(f\"資料夾{test_rise_folder_path} 已建立。\")\n",
        "\n",
        "# 檢查資料是否存在，不存在則建立\n",
        "if not os.path.exists(test_fail_folder_path):\n",
        "    os.makedirs(test_fail_folder_path)\n",
        "    print(f\"資料夾{test_fail_folder_path} 已建立。\")"
      ]
    },
    {
      "cell_type": "code",
      "execution_count": 12,
      "metadata": {
        "id": "9YRqVWH2TYWU"
      },
      "outputs": [],
      "source": [
        "# 複製train圖片到train資料夾\n",
        "for train_image in train_list:\n",
        "    #print(train_image)\n",
        "    #print(train_image[6:10])\n",
        "    src_path = os.path.join('./image/',train_image) ## 假設圖片在 source_folder 中\n",
        "    if train_image[6:10] == 'rise' :\n",
        "        dest_path = os.path.join(train_rise_folder_path+'/', train_image)\n",
        "    if train_image[6:10] == 'fail' :\n",
        "        dest_path = os.path.join(train_fail_folder_path+'/', train_image)\n",
        "    shutil.copy(src_path, dest_path)\n",
        "    #print(f\"已複製{train_image}至{dest_path}/\")"
      ]
    },
    {
      "cell_type": "code",
      "execution_count": 13,
      "metadata": {
        "id": "mBrqsZRmTvhJ"
      },
      "outputs": [],
      "source": [
        "# 複製test圖片到test資料夾\n",
        "for test_image in test_list:\n",
        "    src_path = os.path.join('./image/',test_image) ## 假設圖片在 source_folder 中\n",
        "    if test_image[6:10] == 'rise':\n",
        "        dest_path = os.path.join(test_rise_folder_path+'/', test_image)\n",
        "    if test_image[6:10] == 'fail':\n",
        "        dest_path = os.path.join(test_fail_folder_path+'/', test_image)\n",
        "\n",
        "    shutil.copy(src_path, dest_path)\n",
        "    #print(f\"已複製{test_image}至{dest_path}/\")"
      ]
    },
    {
      "cell_type": "code",
      "execution_count": 14,
      "metadata": {
        "id": "JFmizFgFTziV"
      },
      "outputs": [],
      "source": [
        "import torch\n",
        "from torchvision import datasets, transforms\n",
        "from torch.utils.data import DataLoader"
      ]
    },
    {
      "cell_type": "code",
      "execution_count": 15,
      "metadata": {
        "id": "iHkqunTnT804",
        "colab": {
          "base_uri": "https://localhost:8080/"
        },
        "outputId": "6b822540-5618-485f-8db7-e5612e981e9f"
      },
      "outputs": [
        {
          "output_type": "stream",
          "name": "stdout",
          "text": [
            "Using device: cuda\n"
          ]
        }
      ],
      "source": [
        "# 檢查 GPU 是否可用\n",
        "device = torch.device(\"cuda\" if torch.cuda.is_available() else \"cpu\")\n",
        "print(\"Using device:\", device)  # 顯示使用的裝置"
      ]
    },
    {
      "cell_type": "markdown",
      "metadata": {
        "id": "mRX24O5xYzzW"
      },
      "source": [
        "# 這是程式第三段\n",
        "我要訓練CNN 網路"
      ]
    },
    {
      "cell_type": "code",
      "execution_count": 16,
      "metadata": {
        "id": "UazOUwssUA7E"
      },
      "outputs": [],
      "source": [
        "# 定義轉換\n",
        "transform = transforms.Compose([\n",
        "    transforms.Resize((128, 128)),  # 調整圖片大小\n",
        "    transforms.ToTensor()\n",
        "])\n",
        "\n",
        "# 讀取訓練和驗證資料\n",
        "train_data = datasets.ImageFolder(root='train_folder_path/', transform=transform)\n",
        "#print(train_data)\n",
        "test_data = datasets.ImageFolder(root='test_folder_path/', transform=transform)\n",
        "\n",
        "train_loader = DataLoader(train_data, batch_size=16, shuffle=True)\n",
        "#print(train_loader)\n",
        "test_loader = DataLoader(test_data, batch_size=16, shuffle=False)\n"
      ]
    },
    {
      "cell_type": "code",
      "execution_count": 17,
      "metadata": {
        "id": "povVoC_EVUym"
      },
      "outputs": [],
      "source": [
        "import torch\n",
        "import torch.nn as nn\n",
        "from torch.autograd import Variable\n",
        "import matplotlib.pyplot as plt"
      ]
    },
    {
      "cell_type": "code",
      "execution_count": 18,
      "metadata": {
        "id": "PT2T0t19Vdin"
      },
      "outputs": [],
      "source": [
        "class CNN_Model(nn.Module):\n",
        "    def __init__(self):\n",
        "        super(CNN_Model, self).__init__()\n",
        "        ## Convolution 1 , input_shape=(3,128, 128)\n",
        "        self.cnn1 = nn.Conv2d(in_channels=3, out_channels=16, kernel_size=5, stride=1, padding=0) #捲機後的大小(16, 124,124) ，算法 (128-5)/ 1 + 1 = 124\n",
        "        self.cnn2 = nn.Conv2d(in_channels=16, out_channels=32, kernel_size=5, stride=1, padding=0) ## 捲機後的大小(32, 120, 120 )  ，算法 (124 - 5 ) /1 + 1 = 120\n",
        "        self.relu1 = nn.ReLU()  ## activation\n",
        "        ## Max poo1\n",
        "        self.maxpool1 = nn.MaxPool2d(kernel_size=2)  ## 輸入的形狀是 (32, 120, 120) ，池化後的形狀是(32, 60,60 )，  算法 120/ 2 = 60\n",
        "        self.cnn3 = nn.Conv2d(in_channels=32, out_channels=64, kernel_size=3 , stride=1, padding=0)  # 輸入的形狀是 (32, 60, 60) ，輸出是 (32, 58,58 ) 算法 (60-3)/1 + 1 = 58\n",
        "        self.relu2 = nn.ReLU()\n",
        "        ## Max poo 2\n",
        "        self.maxpool2 = nn.MaxPool2d(kernel_size=2)   ## 輸入的形狀是 (64, 58,58)  ， 輸出是 (64, 29, 29) ，算法是 (58/2) = 29\n",
        "        self.fc1 = nn.Linear(64 * 29 * 29, 128)  ## 關鍵就在這裡是要對到的。\n",
        "        self.fc2 = nn.Linear(128, 2)  # Output為2，對應於兩類分類\n",
        "\n",
        "    def forward(self, x):\n",
        "        # Convolution 1\n",
        "        out = self.cnn1(x)\n",
        "        out = self.cnn2(out)\n",
        "        out = self.relu1(out)\n",
        "        # Max pool 1\n",
        "        out = self.maxpool1(out)\n",
        "        out = self.cnn3(out)\n",
        "        out = self.relu2(out)\n",
        "        out = self.maxpool2(out)\n",
        "        ## 多思，我這攤平是要怎麼做的???\n",
        "        out = out.view(out.size(0) , -1)\n",
        "        out = self.fc1(out)\n",
        "        out = self.fc2(out)\n",
        "\n",
        "        return out"
      ]
    },
    {
      "cell_type": "code",
      "execution_count": 19,
      "metadata": {
        "id": "_39SHEZ9Vhyo",
        "colab": {
          "base_uri": "https://localhost:8080/"
        },
        "outputId": "db5ddc6c-4957-401b-81ac-64875906d1c5"
      },
      "outputs": [
        {
          "output_type": "stream",
          "name": "stdout",
          "text": [
            "CNN_Model(\n",
            "  (cnn1): Conv2d(3, 16, kernel_size=(5, 5), stride=(1, 1))\n",
            "  (cnn2): Conv2d(16, 32, kernel_size=(5, 5), stride=(1, 1))\n",
            "  (relu1): ReLU()\n",
            "  (maxpool1): MaxPool2d(kernel_size=2, stride=2, padding=0, dilation=1, ceil_mode=False)\n",
            "  (cnn3): Conv2d(32, 64, kernel_size=(3, 3), stride=(1, 1))\n",
            "  (relu2): ReLU()\n",
            "  (maxpool2): MaxPool2d(kernel_size=2, stride=2, padding=0, dilation=1, ceil_mode=False)\n",
            "  (fc1): Linear(in_features=53824, out_features=128, bias=True)\n",
            "  (fc2): Linear(in_features=128, out_features=2, bias=True)\n",
            ")\n"
          ]
        }
      ],
      "source": [
        "model = CNN_Model()\n",
        "print(model)\n",
        "\n",
        "# 初始化模型並轉移至 GPU\n",
        "model = CNN_Model().to(device)"
      ]
    },
    {
      "cell_type": "code",
      "execution_count": 20,
      "metadata": {
        "id": "pxDQPC7ZVll7"
      },
      "outputs": [],
      "source": [
        "optimizer = torch.optim.Adam(model.parameters(), lr=0.001)   # optimize all cnn parameters\n",
        "loss_func  =  nn.CrossEntropyLoss()  # the target label is not one-hotted\n",
        "input_shape = (-1,3,128,128)"
      ]
    },
    {
      "cell_type": "code",
      "execution_count": 21,
      "metadata": {
        "id": "t4m3X7qqVsv7",
        "colab": {
          "base_uri": "https://localhost:8080/"
        },
        "outputId": "ae148d80-6de7-430f-bb73-15a8d4bea13c"
      },
      "outputs": [
        {
          "output_type": "stream",
          "name": "stdout",
          "text": [
            "Train Epoch: 1/15 Traing_Loss: 0.06297309696674347 Traing_acc: 73.772202% Val_Loss: 0.06294048577547073 Val_accuracy: 93.333336%\n",
            "Train Epoch: 2/15 Traing_Loss: 0.006368859671056271 Traing_acc: 93.834900% Val_Loss: 0.16056933999061584 Val_accuracy: 93.333336%\n",
            "Train Epoch: 3/15 Traing_Loss: 0.08840738981962204 Traing_acc: 95.088814% Val_Loss: 0.015130001120269299 Val_accuracy: 95.416672%\n",
            "Train Epoch: 4/15 Traing_Loss: 0.0017325549852102995 Traing_acc: 95.611282% Val_Loss: 0.26820045709609985 Val_accuracy: 93.750008%\n",
            "Train Epoch: 5/15 Traing_Loss: 0.13219338655471802 Traing_acc: 96.029259% Val_Loss: 0.11144914478063583 Val_accuracy: 95.833336%\n",
            "Train Epoch: 6/15 Traing_Loss: 0.04706614837050438 Traing_acc: 97.910133% Val_Loss: 0.4514821171760559 Val_accuracy: 92.500008%\n",
            "Train Epoch: 7/15 Traing_Loss: 0.09425684809684753 Traing_acc: 98.746078% Val_Loss: 0.12307843565940857 Val_accuracy: 95.416672%\n",
            "Train Epoch: 8/15 Traing_Loss: 0.007505808491259813 Traing_acc: 99.373039% Val_Loss: 0.24863478541374207 Val_accuracy: 94.583336%\n",
            "Train Epoch: 9/15 Traing_Loss: 0.004756180569529533 Traing_acc: 99.791008% Val_Loss: 0.35849592089653015 Val_accuracy: 95.000008%\n",
            "Train Epoch: 10/15 Traing_Loss: 0.001281972974538803 Traing_acc: 100.000000% Val_Loss: 0.6446529030799866 Val_accuracy: 93.750008%\n",
            "Train Epoch: 11/15 Traing_Loss: 0.00043992744758725166 Traing_acc: 100.000000% Val_Loss: 0.46277621388435364 Val_accuracy: 94.583336%\n",
            "Train Epoch: 12/15 Traing_Loss: 6.611318440263858e-06 Traing_acc: 100.000000% Val_Loss: 0.4749927818775177 Val_accuracy: 94.583336%\n",
            "Train Epoch: 13/15 Traing_Loss: 3.4845717777898244e-07 Traing_acc: 100.000000% Val_Loss: 0.4824275076389313 Val_accuracy: 94.583336%\n",
            "Train Epoch: 14/15 Traing_Loss: 0.00046779715921729803 Traing_acc: 100.000000% Val_Loss: 0.5060470700263977 Val_accuracy: 94.583336%\n",
            "Train Epoch: 15/15 Traing_Loss: 3.100707908743061e-05 Traing_acc: 100.000000% Val_Loss: 0.5435278415679932 Val_accuracy: 94.583336%\n"
          ]
        }
      ],
      "source": [
        "# Traning the Model\n",
        "#history-like list for store loss & acc value\n",
        "training_loss = []\n",
        "training_accuracy = []\n",
        "test_loss = []\n",
        "test_accuracy = []\n",
        "num_epochs = 15\n",
        "## 開始訓練\n",
        "for epoch in range(num_epochs):  # 訓練100個epoch\n",
        "    model.train()\n",
        "    running_loss = 0.0\n",
        "    #training model & store loss & acc / epoch\n",
        "    correct_train = 0\n",
        "    total_train = 0\n",
        "    for i, (images, labels) in enumerate(train_loader):\n",
        "        images, labels = images.to(device), labels.to(device) # 將 images 和 labels 轉移至 GPU\n",
        "\n",
        "        # 1.Define variables  ## 定義變數\n",
        "        train = Variable(images.view(input_shape))\n",
        "        labels = Variable(labels)\n",
        "        # 2.Clear gradients  ## 清晰的漸變; 清理梯度\n",
        "        optimizer.zero_grad()\n",
        "        # 3.Forward propagation ##前向傳播\n",
        "        outputs = model(train)\n",
        "        # 4.Calculate softmax and cross entropy loss  ## 計算softmax和交叉熵損失\n",
        "        train_loss = loss_func(outputs, labels)\n",
        "        # 5.Calculate gradients\n",
        "        train_loss.backward()  #計算梯度\n",
        "        # 6.Update parameters  ##更新參數\n",
        "        optimizer.step()\n",
        "        # 7.Get predictions from the maximum value  # 從最大值取得預測\n",
        "        predicted = torch.max(outputs.data, 1)[1]\n",
        "        # 8.Total number of labels  # 標籤總數\n",
        "        total_train += len(labels)\n",
        "        # 9.Total correct predictions  # 正確預測總數\n",
        "        correct_train += (predicted == labels).float().sum()\n",
        "\n",
        "    #10.store val_acc / epoch\n",
        "    train_accuracy = 100 * correct_train / float(total_train)\n",
        "    training_accuracy.append(train_accuracy)\n",
        "    # 11.store loss / epoch\n",
        "    training_loss.append(train_loss.data)\n",
        "\n",
        "\n",
        "    ##　這個我接下來是要跑　測是集的部分了  ####\n",
        "    #evaluate model & store loss & acc / epoch\n",
        "    correct_test = 0\n",
        "    total_test = 0\n",
        "    for images, labels in test_loader:\n",
        "        images, labels = images.to(device), labels.to(device) # 將 images 和 labels 轉移至 GPU\n",
        "\n",
        "        # 1.Define variables\n",
        "        test = Variable(images.view(input_shape))\n",
        "        # 2.Forward propagation\n",
        "        outputs = model(test)\n",
        "        # 3.Calculate softmax and cross entropy loss\n",
        "        val_loss = loss_func(outputs, labels)\n",
        "        # 4.Get predictions from the maximum value\n",
        "        predicted = torch.max(outputs.data, 1)[1]\n",
        "        # 5.Total number of labels\n",
        "        total_test += len(labels)\n",
        "        # 6.Total correct predictions\n",
        "        correct_test += (predicted == labels).float().sum()\n",
        "    #6.store val_acc / epoch\n",
        "    val_accuracy = 100 * correct_test / float(total_test)\n",
        "    test_accuracy.append(val_accuracy)\n",
        "    # 11.store val_loss / epoch\n",
        "    test_loss.append(val_loss.data)\n",
        "    print('Train Epoch: {}/{} Traing_Loss: {} Traing_acc: {:.6f}% Val_Loss: {} Val_accuracy: {:.6f}%'.format(epoch+1,num_epochs , train_loss.data, train_accuracy, val_loss.data, val_accuracy))\n",
        "\n"
      ]
    },
    {
      "cell_type": "code",
      "execution_count": 22,
      "metadata": {
        "id": "xqIbYoVjVxP3",
        "colab": {
          "base_uri": "https://localhost:8080/"
        },
        "outputId": "e0a9fef5-d556-4718-9c95-0cbfbdbd78e3"
      },
      "outputs": [
        {
          "output_type": "stream",
          "name": "stdout",
          "text": [
            "Accuracy on validation data: 94.58333333333333%\n"
          ]
        }
      ],
      "source": [
        "# 驗證模型\n",
        "model.eval()\n",
        "correct = 0\n",
        "total = 0\n",
        "with torch.no_grad():\n",
        "    for images, labels in test_loader:\n",
        "        images, labels = images.to(device), labels.to(device) # 將 images 和 labels 轉移至 GPU\n",
        "        outputs = model(images)\n",
        "        _, predicted = torch.max(outputs, 1)\n",
        "        total += labels.size(0)\n",
        "        correct += (predicted == labels).sum().item()\n",
        "\n",
        "print(f'Accuracy on validation data: {100 * correct / total}%')\n"
      ]
    },
    {
      "cell_type": "code",
      "execution_count": 23,
      "metadata": {
        "id": "j6ejkGfCXa-g",
        "colab": {
          "base_uri": "https://localhost:8080/",
          "height": 927
        },
        "outputId": "c75ee25e-3d76-4747-adb0-7e8616ca9528"
      },
      "outputs": [
        {
          "output_type": "display_data",
          "data": {
            "text/plain": [
              "<Figure size 640x480 with 1 Axes>"
            ],
            "image/png": "[encoded data removed]"
          },
          "metadata": {}
        },
        {
          "output_type": "display_data",
          "data": {
            "text/plain": [
              "<Figure size 640x480 with 1 Axes>"
            ],
            "image/png": "[encoded data removed]"
          },
          "metadata": {}
        }
      ],
      "source": [
        "# visualization ## 可以是化的部分了\n",
        "training_loss = [loss.item() for loss in training_loss]\n",
        "test_loss = [loss.item() for loss in test_loss]\n",
        "training_accuracy = [loss.item() for loss in training_accuracy]\n",
        "test_accuracy = [loss.item() for loss in test_accuracy]\n",
        "plt.plot(range(num_epochs), training_loss, 'b-', label='Training_loss')\n",
        "plt.plot(range(num_epochs), test_loss, 'g-', label='validation_loss')\n",
        "plt.title('Training & Validation loss')\n",
        "plt.xlabel('Number of epochs')\n",
        "plt.ylabel('Loss')\n",
        "plt.legend()\n",
        "plt.show()\n",
        "plt.plot(range(num_epochs), training_accuracy, 'b-', label='Training_accuracy')\n",
        "plt.plot(range(num_epochs), test_accuracy, 'g-', label='Validation_accuracy')\n",
        "plt.title('Training & Validation accuracy')\n",
        "plt.xlabel('Number of epochs')\n",
        "plt.ylabel('Accuracy')\n",
        "plt.legend()\n",
        "plt.show()\n"
      ]
    },
    {
      "cell_type": "code",
      "execution_count": 24,
      "metadata": {
        "id": "bl7hNLpGXiuk"
      },
      "outputs": [],
      "source": [
        "### 我要去儲存模型\n",
        "torch.save(model,'K_CNN_model.pt')"
      ]
    },
    {
      "cell_type": "markdown",
      "metadata": {
        "id": "KIvTaQHgX0A7"
      },
      "source": [
        "# 第四段程式碼\n",
        "我去讀模型，然後把所有的結果繪製出來"
      ]
    },
    {
      "cell_type": "code",
      "execution_count": 25,
      "metadata": {
        "id": "I_axFPYuXvWZ"
      },
      "outputs": [],
      "source": [
        "import os\n",
        "import torch\n",
        "from torchvision import transforms\n",
        "from PIL import Image\n",
        "import torch.nn as nn\n",
        "import matplotlib.pyplot as plt"
      ]
    },
    {
      "cell_type": "code",
      "execution_count": 26,
      "metadata": {
        "id": "zXBcjUoMYBzg"
      },
      "outputs": [],
      "source": [
        "class CNN_Model(nn.Module):\n",
        "    def __init__(self):\n",
        "        super(CNN_Model, self).__init__()\n",
        "        ## Convolution 1 , input_shape=(3,128, 128)\n",
        "        self.cnn1 = nn.Conv2d(in_channels=3, out_channels=16, kernel_size=5, stride=1, padding=0) #捲機後的大小(16, 124,124) ，算法 (128-5)/ 1 + 1 = 124\n",
        "        self.cnn2 = nn.Conv2d(in_channels=16, out_channels=32, kernel_size=5, stride=1, padding=0) ## 捲機後的大小(32, 120, 120 )  ，算法 (124 - 5 ) /1 + 1 = 120\n",
        "        self.relu1 = nn.ReLU()  ## activation\n",
        "        ## Max poo1\n",
        "        self.maxpool1 = nn.MaxPool2d(kernel_size=2)  ## 輸入的形狀是 (32, 120, 120) ，池化後的形狀是(32, 60,60 )，  算法 120/ 2 = 60\n",
        "        self.cnn3 = nn.Conv2d(in_channels=32, out_channels=64, kernel_size=3 , stride=1, padding=0)  # 輸入的形狀是 (32, 60, 60) ，輸出是 (32, 58,58 ) 算法 (60-3)/1 + 1 = 58\n",
        "        self.relu2 = nn.ReLU()\n",
        "        ## Max poo 2\n",
        "        self.maxpool2 = nn.MaxPool2d(kernel_size=2)   ## 輸入的形狀是 (64, 58,58)  ， 輸出是 (64, 29, 29) ，算法是 (58/2) = 29\n",
        "        self.fc1 = nn.Linear(64 * 29 * 29, 128)  ## 關鍵就在這裡是要對到的。\n",
        "        self.fc2 = nn.Linear(128, 2)  # Output為2，對應於兩類分類\n",
        "\n",
        "    def forward(self, x):\n",
        "        # Convolution 1\n",
        "        out = self.cnn1(x)\n",
        "        out = self.cnn2(out)\n",
        "        out = self.relu1(out)\n",
        "        # Max pool 1\n",
        "        out = self.maxpool1(out)\n",
        "        out = self.cnn3(out)\n",
        "        out = self.relu2(out)\n",
        "        out = self.maxpool2(out)\n",
        "        ## 多思，我這攤平是要怎麼做的???\n",
        "        out = out.view(out.size(0) , -1)\n",
        "        out = self.fc1(out)\n",
        "        out = self.fc2(out)\n",
        "\n",
        "        return out"
      ]
    },
    {
      "cell_type": "code",
      "execution_count": 27,
      "metadata": {
        "id": "Zh0fwK_KYEIb",
        "colab": {
          "base_uri": "https://localhost:8080/"
        },
        "outputId": "f7498b24-de5b-473f-e209-e8037e447df2"
      },
      "outputs": [
        {
          "output_type": "stream",
          "name": "stderr",
          "text": [
            "<ipython-input-27-41a8c3c44e67>:5: FutureWarning: You are using `torch.load` with `weights_only=False` (the current default value), which uses the default pickle module implicitly. It is possible to construct malicious pickle data which will execute arbitrary code during unpickling (See https://github.com/pytorch/pytorch/blob/main/SECURITY.md#untrusted-models for more details). In a future release, the default value for `weights_only` will be flipped to `True`. This limits the functions that could be executed during unpickling. Arbitrary objects will no longer be allowed to be loaded via this mode unless they are explicitly allowlisted by the user via `torch.serialization.add_safe_globals`. We recommend you start setting `weights_only=True` for any use case where you don't have full control of the loaded file. Please open an issue on GitHub for any issues related to this experimental feature.\n",
            "  model = torch.load(\"./K_CNN_model.pt\")\n"
          ]
        }
      ],
      "source": [
        "# 設定裝置\n",
        "device = torch.device(\"cuda\" if torch.cuda.is_available() else \"cpu\")\n",
        "\n",
        "# 加載模型\n",
        "model = torch.load(\"./K_CNN_model.pt\")\n",
        "model = model.to(device)\n",
        "model.eval()  # 設置模型為評估模式\n",
        "\n",
        "# 定義轉換\n",
        "transform = transforms.Compose([\n",
        "    transforms.Resize((128, 128)),  # 調整圖片大小\n",
        "    transforms.ToTensor()\n",
        "])"
      ]
    },
    {
      "cell_type": "code",
      "execution_count": 28,
      "metadata": {
        "id": "wxXTcJ7VYHYZ"
      },
      "outputs": [],
      "source": [
        "# 預測函數\n",
        "def predict_image(image_path):\n",
        "    image_0 =Image.open(image_path)\n",
        "    #image = Image.open(image_path).convert(\"RGB\")  # 確保圖片為 RGB\n",
        "    image = image_0.convert(\"RGB\")\n",
        "    image = transform(image).unsqueeze(0)  # 增加一個 batch 維度\n",
        "    image = image.to(device)\n",
        "\n",
        "    with torch.no_grad():  # 停用梯度計算\n",
        "        output = model(image)\n",
        "        _, predicted = torch.max(output, 1)  # 取得預測類別\n",
        "    return image_0,predicted.item()\n"
      ]
    },
    {
      "cell_type": "code",
      "execution_count": 29,
      "metadata": {
        "id": "ZOJZqodWYJwQ",
        "colab": {
          "base_uri": "https://localhost:8080/",
          "height": 435
        },
        "outputId": "9840b859-cff6-4bc7-f783-415c3edeeb93"
      },
      "outputs": [
        {
          "output_type": "display_data",
          "data": {
            "text/plain": [
              "<Figure size 640x480 with 1 Axes>"
            ],
            "image/png": "[encoded data removed]"
          },
          "metadata": {}
        }
      ],
      "source": [
        "# 遍歷 val 資料夾\n",
        "tong_i = 0\n",
        "val_dir = \"test_folder_path\"\n",
        "for class_folder in os.listdir(val_dir):\n",
        "    class_path = os.path.join(val_dir, class_folder)\n",
        "    if os.path.isdir(class_path):\n",
        "        for img_file in os.listdir(class_path):\n",
        "            img_path = os.path.join(class_path, img_file)\n",
        "            if img_path.endswith(\".png\"):\n",
        "                image_0,prediction = predict_image(img_path)\n",
        "                #print(img_path[-8: -4])  ## 我這是取得圖片的檔名。我要去判斷它的類別。\n",
        "                if img_path[-8: -4] == 'rise' :\n",
        "                    #print('實際是漲')\n",
        "                    ground_true = 'rise'\n",
        "                if img_path[-8: -4] == 'fail' :\n",
        "                    #print('實際是跌')\n",
        "                    ground_true = 'fail'\n",
        "\n",
        "                #print(prediction)\n",
        "                if prediction == 0:\n",
        "                    predicted_ans = 'fail'\n",
        "                if prediction == 1:\n",
        "                    predicted_ans = 'rise'\n",
        "\n",
        "                plt.imshow(image_0)         # 在圖表中繪製圖片\n",
        "                plt.text(5,15,\n",
        "                         'Actual results: '+ground_true)\n",
        "                plt.text(5,30,\n",
        "                         'Prediction results: '+predicted_ans)\n",
        "                #print(f\"Image: {img_file}, Prediction: {prediction}\")\n",
        "                if tong_i == 0:  ## 我指到示範一張當範例而已。\n",
        "                  plt.show()\n",
        "                  tong_i +=1\n",
        "                plt.close()\n",
        "\n"
      ]
    },
    {
      "cell_type": "code",
      "execution_count": 29,
      "metadata": {
        "id": "TgaLv9bfYMbh"
      },
      "outputs": [],
      "source": []
    }
  ],
  "metadata": {
    "accelerator": "GPU",
    "colab": {
      "gpuType": "T4",
      "provenance": []
    },
    "kernelspec": {
      "display_name": "Python 3",
      "name": "python3"
    },
    "language_info": {
      "name": "python"
    }
  },
  "nbformat": 4,
  "nbformat_minor": 0
}