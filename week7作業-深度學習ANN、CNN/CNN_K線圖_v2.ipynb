{
  "cells": [
    {
      "cell_type": "code",
      "execution_count": 1,
      "metadata": {
        "colab": {
          "base_uri": "https://localhost:8080/"
        },
        "id": "VJWX23ZuJt2f",
        "outputId": "807205c8-b32e-4170-83f6-ec9232cd8405"
      },
      "outputs": [
        {
          "output_type": "stream",
          "name": "stdout",
          "text": [
            "/content\n",
            "total 16\n",
            "drwxr-xr-x 1 root root 4096 Oct 24 13:20 .\n",
            "drwxr-xr-x 1 root root 4096 Oct 27 13:00 ..\n",
            "drwxr-xr-x 4 root root 4096 Oct 24 13:20 .config\n",
            "drwxr-xr-x 1 root root 4096 Oct 24 13:20 sample_data\n",
            "/content\n",
            "total 20\n",
            "drwxr-xr-x 1 root root 4096 Oct 27 13:01 .\n",
            "drwxr-xr-x 1 root root 4096 Oct 27 13:00 ..\n",
            "drwxr-xr-x 4 root root 4096 Oct 24 13:20 .config\n",
            "drwxr-xr-x 2 root root 4096 Oct 27 13:01 image\n",
            "drwxr-xr-x 1 root root 4096 Oct 24 13:20 sample_data\n"
          ]
        }
      ],
      "source": [
        "!pwd\n",
        "!ls -la\n",
        "!mkdir image\n",
        "!pwd\n",
        "!ls -la"
      ]
    },
    {
      "cell_type": "markdown",
      "metadata": {
        "id": "JYjCP0CQYcYm"
      },
      "source": [
        "# 這是程式第一段\n",
        "我要去把K線圖所繪製出來"
      ]
    },
    {
      "cell_type": "code",
      "execution_count": 2,
      "metadata": {
        "id": "lZ6Q8GfPyB2g"
      },
      "outputs": [],
      "source": [
        "import yfinance as yf\n",
        "import matplotlib.pyplot as plt"
      ]
    },
    {
      "cell_type": "code",
      "execution_count": 3,
      "metadata": {
        "id": "3rtz9gzcJ4S_"
      },
      "outputs": [],
      "source": [
        "taiwan_2330_stock = yf.Ticker(\"2330.TW\")      ## 我以台積電作為我的股票\n",
        "data  = taiwan_2330_stock.history(period=\"5y\")   ## 我抓取的時間是一年"
      ]
    },
    {
      "cell_type": "code",
      "execution_count": 4,
      "metadata": {
        "id": "gHr-1OXOJ6Z1"
      },
      "outputs": [],
      "source": [
        "K_data = data[['Open','Close','High','Low']]"
      ]
    },
    {
      "cell_type": "code",
      "execution_count": 5,
      "metadata": {
        "id": "K9ss7o7JJ8Ib"
      },
      "outputs": [],
      "source": [
        "i_number = 0\n",
        "ten_data = []"
      ]
    },
    {
      "cell_type": "code",
      "execution_count": 6,
      "metadata": {
        "id": "YXlrQnmIJ9sI"
      },
      "outputs": [],
      "source": [
        "for i in range(len(K_data.values) - 19):\n",
        "    #print(i)\n",
        "    ten_data.append([])\n",
        "    ten_data[i].append(K_data.values[i:i+20])"
      ]
    },
    {
      "cell_type": "code",
      "execution_count": 7,
      "metadata": {
        "colab": {
          "base_uri": "https://localhost:8080/",
          "height": 406
        },
        "id": "d3U8xVfqJ_UM",
        "outputId": "e6cde62a-d5fc-46b3-ad94-08b3229ca8b1"
      },
      "outputs": [
        {
          "output_type": "display_data",
          "data": {
            "text/plain": [
              "<Figure size 640x480 with 1 Axes>"
            ],
            "image/png": "[encoded data removed]"
          },
          "metadata": {}
        }
      ],
      "source": [
        "for idx1, ten_day in enumerate(ten_data):\n",
        "\n",
        "    ## 這裡是要判斷下次是漲還是跌\n",
        "    if idx1 < len(ten_data) -1 :\n",
        "        ## 取得下次的20 天 的值 ， 要判斷下次是漲，還是迭\n",
        "        next_ten = ten_data[idx1 + 1][0]\n",
        "        #print(next_ten)\n",
        "        next_close_list = []\n",
        "        for next_one in next_ten:\n",
        "            next_one_close = next_one[1]  ## 是看收盤價\n",
        "            next_close_list.append(next_one_close)\n",
        "        # 計算平均值\n",
        "        MA20 = sum(next_close_list) / len(next_close_list) if next_close_list else 0\n",
        "        MA10 = sum(next_close_list[-10:])/len(next_close_list[-10:]) if next_close_list[-10: ] else 0\n",
        "        #ans = ['漲' if MA10 > MA20 else '跌']\n",
        "        rise_fail_ans = 'rise' if MA10 > MA20 else 'fail'\n",
        "        #print(rise_fail_ans)\n",
        "    else:  # 最後一次沒有下次，我要壤它跳開了\n",
        "        break\n",
        "\n",
        "    #這裡是處理K線圖\n",
        "    for indx2, one_day in enumerate(ten_day[0]):\n",
        "        #print(one_day)\n",
        "        open_price = int(one_day[0])\n",
        "        close_price = int(one_day[1])\n",
        "        high_price = int(one_day[2])\n",
        "        low_price = int(one_day[3])\n",
        "\n",
        "        ## 決定陰線(下跌)或陽線(上長)\n",
        "        color = \"green\"\n",
        "        if close_price > open_price:\n",
        "            color = \"red\"\n",
        "\n",
        "        #plt.title(rise_fail_ans)\n",
        "        plt.axis('off')\n",
        "        plt.xticks([])\n",
        "        plt.yticks([])\n",
        "        #plt.ylim(0,10)\n",
        "        #化陰陽線\n",
        "        plt.bar(indx2,\n",
        "                abs(open_price - close_price),\n",
        "                bottom= min(open_price,close_price),\n",
        "                color=color,\n",
        "                width=0.5)\n",
        "        #畫影線\n",
        "        plt.bar(indx2, high_price- low_price,\n",
        "                bottom=low_price,\n",
        "                color=color,\n",
        "                width=0.1)\n",
        "\n",
        "    formatted_number = \"{:05d}\".format(idx1) ## 保持輸出的數字漂亮\n",
        "    # 儲存圖片\n",
        "    plt.savefig('image/'+str(formatted_number)+'_'+str(rise_fail_ans)+'.png', format='png', dpi=100)  # 儲存為 PNG 格式，解析度為 300 dp\n",
        "    if idx1 == 0:\n",
        "      plt.show()\n",
        "    plt.close()\n"
      ]
    },
    {
      "cell_type": "markdown",
      "metadata": {
        "id": "VbdMoLh5YjTp"
      },
      "source": [
        "# 這是程式第大二段\n",
        "我要分類訓練集與測試集圖片"
      ]
    },
    {
      "cell_type": "code",
      "execution_count": 8,
      "metadata": {
        "id": "sqTeTwYoKY1h"
      },
      "outputs": [],
      "source": [
        "import os\n",
        "import random\n",
        "import shutil ## 這是搬移圖片用的。\n",
        "image_list = os.listdir('./image/')"
      ]
    },
    {
      "cell_type": "code",
      "execution_count": 9,
      "metadata": {
        "id": "07v1AeRsSlHO"
      },
      "outputs": [],
      "source": [
        "## 我要打亂圖片順序\n",
        "random.seed(2)\n",
        "random.shuffle(image_list)  # 這個前面不能寫等於。\n",
        "train_size = int(len(image_list) * 0.8 )\n",
        "train_list = image_list[:train_size]\n",
        "test_list = image_list[train_size:]"
      ]
    },
    {
      "cell_type": "code",
      "execution_count": 10,
      "metadata": {
        "id": "bjawWHv4TRKL"
      },
      "outputs": [],
      "source": [
        "train_rise_folder_path = './train_folder_path/rise'\n",
        "train_fail_folder_path = './train_folder_path/fail'\n",
        "test_rise_folder_path = './test_folder_path/rise'\n",
        "test_fail_folder_path = './test_folder_path/fali'\n"
      ]
    },
    {
      "cell_type": "code",
      "execution_count": 11,
      "metadata": {
        "id": "Z3uHorJzTWR-",
        "colab": {
          "base_uri": "https://localhost:8080/"
        },
        "outputId": "dacabffe-f8ff-4576-9885-d18919fe3018"
      },
      "outputs": [
        {
          "output_type": "stream",
          "name": "stdout",
          "text": [
            "資料夾./train_folder_path/rise 已建立。\n",
            "資料夾./train_folder_path/fail 已建立。\n",
            "資料夾./test_folder_path/rise 已建立。\n",
            "資料夾./test_folder_path/fali 已建立。\n"
          ]
        }
      ],
      "source": [
        "if not os.path.exists(train_rise_folder_path):\n",
        "    os.makedirs(train_rise_folder_path)\n",
        "    print(f\"資料夾{train_rise_folder_path} 已建立。\")\n",
        "\n",
        "# 檢查資料是否存在，不存在則建立\n",
        "if not os.path.exists(train_fail_folder_path):\n",
        "    os.makedirs(train_fail_folder_path)\n",
        "    print(f\"資料夾{train_fail_folder_path} 已建立。\")\n",
        "\n",
        "# 檢查資料是否存在，不存在則建立\n",
        "if not os.path.exists(test_rise_folder_path):\n",
        "    os.makedirs(test_rise_folder_path)\n",
        "    print(f\"資料夾{test_rise_folder_path} 已建立。\")\n",
        "\n",
        "# 檢查資料是否存在，不存在則建立\n",
        "if not os.path.exists(test_fail_folder_path):\n",
        "    os.makedirs(test_fail_folder_path)\n",
        "    print(f\"資料夾{test_fail_folder_path} 已建立。\")"
      ]
    },
    {
      "cell_type": "code",
      "execution_count": 12,
      "metadata": {
        "id": "9YRqVWH2TYWU"
      },
      "outputs": [],
      "source": [
        "# 複製train圖片到train資料夾\n",
        "for train_image in train_list:\n",
        "    #print(train_image)\n",
        "    #print(train_image[6:10])\n",
        "    src_path = os.path.join('./image/',train_image) ## 假設圖片在 source_folder 中\n",
        "    if train_image[6:10] == 'rise' :\n",
        "        dest_path = os.path.join(train_rise_folder_path+'/', train_image)\n",
        "    if train_image[6:10] == 'fail' :\n",
        "        dest_path = os.path.join(train_fail_folder_path+'/', train_image)\n",
        "    shutil.copy(src_path, dest_path)\n",
        "    #print(f\"已複製{train_image}至{dest_path}/\")"
      ]
    },
    {
      "cell_type": "code",
      "execution_count": 13,
      "metadata": {
        "id": "mBrqsZRmTvhJ",
        "colab": {
          "base_uri": "https://localhost:8080/"
        },
        "outputId": "d4a1b336-1593-456b-efd8-d2d5b3922b3d"
      },
      "outputs": [
        {
          "output_type": "stream",
          "name": "stdout",
          "text": [
            "已複製01134_rise.png至./test_folder_path/rise/01134_rise.png/\n",
            "已複製01008_rise.png至./test_folder_path/rise/01008_rise.png/\n",
            "已複製00075_fail.png至./test_folder_path/fali/00075_fail.png/\n",
            "已複製01124_rise.png至./test_folder_path/rise/01124_rise.png/\n",
            "已複製00447_fail.png至./test_folder_path/fali/00447_fail.png/\n",
            "已複製00433_rise.png至./test_folder_path/rise/00433_rise.png/\n",
            "已複製00604_fail.png至./test_folder_path/fali/00604_fail.png/\n",
            "已複製00796_fail.png至./test_folder_path/fali/00796_fail.png/\n",
            "已複製00772_rise.png至./test_folder_path/rise/00772_rise.png/\n",
            "已複製00966_rise.png至./test_folder_path/rise/00966_rise.png/\n",
            "已複製00207_rise.png至./test_folder_path/rise/00207_rise.png/\n",
            "已複製01043_rise.png至./test_folder_path/rise/01043_rise.png/\n",
            "已複製00290_rise.png至./test_folder_path/rise/00290_rise.png/\n",
            "已複製00860_rise.png至./test_folder_path/rise/00860_rise.png/\n",
            "已複製01077_fail.png至./test_folder_path/fali/01077_fail.png/\n",
            "已複製00862_rise.png至./test_folder_path/rise/00862_rise.png/\n",
            "已複製00630_fail.png至./test_folder_path/fali/00630_fail.png/\n",
            "已複製00135_rise.png至./test_folder_path/rise/00135_rise.png/\n",
            "已複製00675_fail.png至./test_folder_path/fali/00675_fail.png/\n",
            "已複製00169_rise.png至./test_folder_path/rise/00169_rise.png/\n",
            "已複製01166_fail.png至./test_folder_path/fali/01166_fail.png/\n",
            "已複製01170_fail.png至./test_folder_path/fali/01170_fail.png/\n",
            "已複製00648_rise.png至./test_folder_path/rise/00648_rise.png/\n",
            "已複製00698_fail.png至./test_folder_path/fali/00698_fail.png/\n",
            "已複製00049_fail.png至./test_folder_path/fali/00049_fail.png/\n",
            "已複製01022_rise.png至./test_folder_path/rise/01022_rise.png/\n",
            "已複製00228_fail.png至./test_folder_path/fali/00228_fail.png/\n",
            "已複製00820_rise.png至./test_folder_path/rise/00820_rise.png/\n",
            "已複製00434_rise.png至./test_folder_path/rise/00434_rise.png/\n",
            "已複製00047_fail.png至./test_folder_path/fali/00047_fail.png/\n",
            "已複製00863_rise.png至./test_folder_path/rise/00863_rise.png/\n",
            "已複製01143_fail.png至./test_folder_path/fali/01143_fail.png/\n",
            "已複製00010_rise.png至./test_folder_path/rise/00010_rise.png/\n",
            "已複製00217_rise.png至./test_folder_path/rise/00217_rise.png/\n",
            "已複製00412_fail.png至./test_folder_path/fali/00412_fail.png/\n",
            "已複製00374_rise.png至./test_folder_path/rise/00374_rise.png/\n",
            "已複製00066_fail.png至./test_folder_path/fali/00066_fail.png/\n",
            "已複製00610_rise.png至./test_folder_path/rise/00610_rise.png/\n",
            "已複製00201_rise.png至./test_folder_path/rise/00201_rise.png/\n",
            "已複製00249_rise.png至./test_folder_path/rise/00249_rise.png/\n",
            "已複製00134_rise.png至./test_folder_path/rise/00134_rise.png/\n",
            "已複製00584_fail.png至./test_folder_path/fali/00584_fail.png/\n",
            "已複製00525_rise.png至./test_folder_path/rise/00525_rise.png/\n",
            "已複製00742_rise.png至./test_folder_path/rise/00742_rise.png/\n",
            "已複製01033_rise.png至./test_folder_path/rise/01033_rise.png/\n",
            "已複製00561_fail.png至./test_folder_path/fali/00561_fail.png/\n",
            "已複製00813_rise.png至./test_folder_path/rise/00813_rise.png/\n",
            "已複製00759_fail.png至./test_folder_path/fali/00759_fail.png/\n",
            "已複製00700_fail.png至./test_folder_path/fali/00700_fail.png/\n",
            "已複製00259_rise.png至./test_folder_path/rise/00259_rise.png/\n",
            "已複製01048_rise.png至./test_folder_path/rise/01048_rise.png/\n",
            "已複製01017_rise.png至./test_folder_path/rise/01017_rise.png/\n",
            "已複製00586_fail.png至./test_folder_path/fali/00586_fail.png/\n",
            "已複製01131_rise.png至./test_folder_path/rise/01131_rise.png/\n",
            "已複製01155_rise.png至./test_folder_path/rise/01155_rise.png/\n",
            "已複製00179_rise.png至./test_folder_path/rise/00179_rise.png/\n",
            "已複製00127_rise.png至./test_folder_path/rise/00127_rise.png/\n",
            "已複製00935_fail.png至./test_folder_path/fali/00935_fail.png/\n",
            "已複製00139_rise.png至./test_folder_path/rise/00139_rise.png/\n",
            "已複製00319_fail.png至./test_folder_path/fali/00319_fail.png/\n",
            "已複製00980_rise.png至./test_folder_path/rise/00980_rise.png/\n",
            "已複製00685_fail.png至./test_folder_path/fali/00685_fail.png/\n",
            "已複製00005_rise.png至./test_folder_path/rise/00005_rise.png/\n",
            "已複製00575_rise.png至./test_folder_path/rise/00575_rise.png/\n",
            "已複製00736_rise.png至./test_folder_path/rise/00736_rise.png/\n",
            "已複製00468_rise.png至./test_folder_path/rise/00468_rise.png/\n",
            "已複製00913_fail.png至./test_folder_path/fali/00913_fail.png/\n",
            "已複製00189_rise.png至./test_folder_path/rise/00189_rise.png/\n",
            "已複製00539_fail.png至./test_folder_path/fali/00539_fail.png/\n",
            "已複製00564_fail.png至./test_folder_path/fali/00564_fail.png/\n",
            "已複製00712_fail.png至./test_folder_path/fali/00712_fail.png/\n",
            "已複製00786_rise.png至./test_folder_path/rise/00786_rise.png/\n",
            "已複製01138_fail.png至./test_folder_path/fali/01138_fail.png/\n",
            "已複製00132_rise.png至./test_folder_path/rise/00132_rise.png/\n",
            "已複製00517_rise.png至./test_folder_path/rise/00517_rise.png/\n",
            "已複製00394_fail.png至./test_folder_path/fali/00394_fail.png/\n",
            "已複製00919_rise.png至./test_folder_path/rise/00919_rise.png/\n",
            "已複製00658_rise.png至./test_folder_path/rise/00658_rise.png/\n",
            "已複製00505_fail.png至./test_folder_path/fali/00505_fail.png/\n",
            "已複製00155_rise.png至./test_folder_path/rise/00155_rise.png/\n",
            "已複製00904_fail.png至./test_folder_path/fali/00904_fail.png/\n",
            "已複製01039_rise.png至./test_folder_path/rise/01039_rise.png/\n",
            "已複製01061_rise.png至./test_folder_path/rise/01061_rise.png/\n",
            "已複製00296_rise.png至./test_folder_path/rise/00296_rise.png/\n",
            "已複製00679_fail.png至./test_folder_path/fali/00679_fail.png/\n",
            "已複製01127_rise.png至./test_folder_path/rise/01127_rise.png/\n",
            "已複製00015_rise.png至./test_folder_path/rise/00015_rise.png/\n",
            "已複製00458_fail.png至./test_folder_path/fali/00458_fail.png/\n",
            "已複製00508_rise.png至./test_folder_path/rise/00508_rise.png/\n",
            "已複製01062_rise.png至./test_folder_path/rise/01062_rise.png/\n",
            "已複製00176_rise.png至./test_folder_path/rise/00176_rise.png/\n",
            "已複製00161_rise.png至./test_folder_path/rise/00161_rise.png/\n",
            "已複製01014_rise.png至./test_folder_path/rise/01014_rise.png/\n",
            "已複製00062_fail.png至./test_folder_path/fali/00062_fail.png/\n",
            "已複製00945_fail.png至./test_folder_path/fali/00945_fail.png/\n",
            "已複製01054_rise.png至./test_folder_path/rise/01054_rise.png/\n",
            "已複製00466_rise.png至./test_folder_path/rise/00466_rise.png/\n",
            "已複製00514_rise.png至./test_folder_path/rise/00514_rise.png/\n",
            "已複製01121_rise.png至./test_folder_path/rise/01121_rise.png/\n",
            "已複製00312_fail.png至./test_folder_path/fali/00312_fail.png/\n",
            "已複製00643_fail.png至./test_folder_path/fali/00643_fail.png/\n",
            "已複製00614_rise.png至./test_folder_path/rise/00614_rise.png/\n",
            "已複製01128_rise.png至./test_folder_path/rise/01128_rise.png/\n",
            "已複製00628_fail.png至./test_folder_path/fali/00628_fail.png/\n",
            "已複製00001_rise.png至./test_folder_path/rise/00001_rise.png/\n",
            "已複製00102_rise.png至./test_folder_path/rise/00102_rise.png/\n",
            "已複製00857_rise.png至./test_folder_path/rise/00857_rise.png/\n",
            "已複製00104_rise.png至./test_folder_path/rise/00104_rise.png/\n",
            "已複製00785_rise.png至./test_folder_path/rise/00785_rise.png/\n",
            "已複製01096_rise.png至./test_folder_path/rise/01096_rise.png/\n",
            "已複製01181_rise.png至./test_folder_path/rise/01181_rise.png/\n",
            "已複製00436_rise.png至./test_folder_path/rise/00436_rise.png/\n",
            "已複製00235_fail.png至./test_folder_path/fali/00235_fail.png/\n",
            "已複製00956_rise.png至./test_folder_path/rise/00956_rise.png/\n",
            "已複製00787_rise.png至./test_folder_path/rise/00787_rise.png/\n",
            "已複製00242_rise.png至./test_folder_path/rise/00242_rise.png/\n",
            "已複製00883_fail.png至./test_folder_path/fali/00883_fail.png/\n",
            "已複製00659_rise.png至./test_folder_path/rise/00659_rise.png/\n",
            "已複製00236_fail.png至./test_folder_path/fali/00236_fail.png/\n",
            "已複製00472_rise.png至./test_folder_path/rise/00472_rise.png/\n",
            "已複製00990_fail.png至./test_folder_path/fali/00990_fail.png/\n",
            "已複製00635_fail.png至./test_folder_path/fali/00635_fail.png/\n",
            "已複製00538_fail.png至./test_folder_path/fali/00538_fail.png/\n",
            "已複製00344_rise.png至./test_folder_path/rise/00344_rise.png/\n",
            "已複製00527_rise.png至./test_folder_path/rise/00527_rise.png/\n",
            "已複製00421_rise.png至./test_folder_path/rise/00421_rise.png/\n",
            "已複製00545_fail.png至./test_folder_path/fali/00545_fail.png/\n",
            "已複製00940_fail.png至./test_folder_path/fali/00940_fail.png/\n",
            "已複製00677_fail.png至./test_folder_path/fali/00677_fail.png/\n",
            "已複製00020_rise.png至./test_folder_path/rise/00020_rise.png/\n",
            "已複製01167_fail.png至./test_folder_path/fali/01167_fail.png/\n",
            "已複製00568_fail.png至./test_folder_path/fali/00568_fail.png/\n",
            "已複製00753_fail.png至./test_folder_path/fali/00753_fail.png/\n",
            "已複製00381_rise.png至./test_folder_path/rise/00381_rise.png/\n",
            "已複製00530_rise.png至./test_folder_path/rise/00530_rise.png/\n",
            "已複製00216_rise.png至./test_folder_path/rise/00216_rise.png/\n",
            "已複製00244_rise.png至./test_folder_path/rise/00244_rise.png/\n",
            "已複製01146_fail.png至./test_folder_path/fali/01146_fail.png/\n",
            "已複製00835_fail.png至./test_folder_path/fali/00835_fail.png/\n",
            "已複製00492_rise.png至./test_folder_path/rise/00492_rise.png/\n",
            "已複製00213_fail.png至./test_folder_path/fali/00213_fail.png/\n",
            "已複製00113_fail.png至./test_folder_path/fali/00113_fail.png/\n",
            "已複製00293_rise.png至./test_folder_path/rise/00293_rise.png/\n",
            "已複製00577_fail.png至./test_folder_path/fali/00577_fail.png/\n",
            "已複製00833_fail.png至./test_folder_path/fali/00833_fail.png/\n",
            "已複製00520_rise.png至./test_folder_path/rise/00520_rise.png/\n",
            "已複製00124_fail.png至./test_folder_path/fali/00124_fail.png/\n",
            "已複製00666_rise.png至./test_folder_path/rise/00666_rise.png/\n",
            "已複製00322_fail.png至./test_folder_path/fali/00322_fail.png/\n",
            "已複製00041_rise.png至./test_folder_path/rise/00041_rise.png/\n",
            "已複製00850_rise.png至./test_folder_path/rise/00850_rise.png/\n",
            "已複製01163_fail.png至./test_folder_path/fali/01163_fail.png/\n",
            "已複製00695_fail.png至./test_folder_path/fali/00695_fail.png/\n",
            "已複製00285_rise.png至./test_folder_path/rise/00285_rise.png/\n",
            "已複製00911_fail.png至./test_folder_path/fali/00911_fail.png/\n",
            "已複製00603_fail.png至./test_folder_path/fali/00603_fail.png/\n",
            "已複製01071_rise.png至./test_folder_path/rise/01071_rise.png/\n",
            "已複製00738_rise.png至./test_folder_path/rise/00738_rise.png/\n",
            "已複製00122_fail.png至./test_folder_path/fali/00122_fail.png/\n",
            "已複製00963_fail.png至./test_folder_path/fali/00963_fail.png/\n",
            "已複製00283_rise.png至./test_folder_path/rise/00283_rise.png/\n",
            "已複製00869_rise.png至./test_folder_path/rise/00869_rise.png/\n",
            "已複製01031_rise.png至./test_folder_path/rise/01031_rise.png/\n",
            "已複製01068_rise.png至./test_folder_path/rise/01068_rise.png/\n",
            "已複製00929_fail.png至./test_folder_path/fali/00929_fail.png/\n",
            "已複製00657_rise.png至./test_folder_path/rise/00657_rise.png/\n",
            "已複製01104_rise.png至./test_folder_path/rise/01104_rise.png/\n",
            "已複製01016_rise.png至./test_folder_path/rise/01016_rise.png/\n",
            "已複製00443_rise.png至./test_folder_path/rise/00443_rise.png/\n",
            "已複製00146_rise.png至./test_folder_path/rise/00146_rise.png/\n",
            "已複製01066_rise.png至./test_folder_path/rise/01066_rise.png/\n",
            "已複製00478_rise.png至./test_folder_path/rise/00478_rise.png/\n",
            "已複製00321_fail.png至./test_folder_path/fali/00321_fail.png/\n",
            "已複製01059_rise.png至./test_folder_path/rise/01059_rise.png/\n",
            "已複製00148_rise.png至./test_folder_path/rise/00148_rise.png/\n",
            "已複製00708_fail.png至./test_folder_path/fali/00708_fail.png/\n",
            "已複製00098_rise.png至./test_folder_path/rise/00098_rise.png/\n",
            "已複製00357_fail.png至./test_folder_path/fali/00357_fail.png/\n",
            "已複製00444_rise.png至./test_folder_path/rise/00444_rise.png/\n",
            "已複製00592_fail.png至./test_folder_path/fali/00592_fail.png/\n",
            "已複製01191_rise.png至./test_folder_path/rise/01191_rise.png/\n",
            "已複製00299_rise.png至./test_folder_path/rise/00299_rise.png/\n",
            "已複製00270_rise.png至./test_folder_path/rise/00270_rise.png/\n",
            "已複製00705_fail.png至./test_folder_path/fali/00705_fail.png/\n",
            "已複製00985_fail.png至./test_folder_path/fali/00985_fail.png/\n",
            "已複製00420_rise.png至./test_folder_path/rise/00420_rise.png/\n",
            "已複製00732_rise.png至./test_folder_path/rise/00732_rise.png/\n",
            "已複製00302_rise.png至./test_folder_path/rise/00302_rise.png/\n",
            "已複製00776_rise.png至./test_folder_path/rise/00776_rise.png/\n",
            "已複製00670_rise.png至./test_folder_path/rise/00670_rise.png/\n",
            "已複製00806_fail.png至./test_folder_path/fali/00806_fail.png/\n",
            "已複製00488_rise.png至./test_folder_path/rise/00488_rise.png/\n",
            "已複製00934_fail.png至./test_folder_path/fali/00934_fail.png/\n",
            "已複製00888_rise.png至./test_folder_path/rise/00888_rise.png/\n",
            "已複製00978_rise.png至./test_folder_path/rise/00978_rise.png/\n",
            "已複製01026_rise.png至./test_folder_path/rise/01026_rise.png/\n",
            "已複製00504_fail.png至./test_folder_path/fali/00504_fail.png/\n",
            "已複製00306_rise.png至./test_folder_path/rise/00306_rise.png/\n",
            "已複製00141_rise.png至./test_folder_path/rise/00141_rise.png/\n",
            "已複製00955_rise.png至./test_folder_path/rise/00955_rise.png/\n",
            "已複製00689_fail.png至./test_folder_path/fali/00689_fail.png/\n",
            "已複製00034_fail.png至./test_folder_path/fali/00034_fail.png/\n",
            "已複製00587_fail.png至./test_folder_path/fali/00587_fail.png/\n",
            "已複製01027_rise.png至./test_folder_path/rise/01027_rise.png/\n",
            "已複製00790_rise.png至./test_folder_path/rise/00790_rise.png/\n",
            "已複製00192_rise.png至./test_folder_path/rise/00192_rise.png/\n",
            "已複製00660_rise.png至./test_folder_path/rise/00660_rise.png/\n",
            "已複製01050_rise.png至./test_folder_path/rise/01050_rise.png/\n",
            "已複製00125_fail.png至./test_folder_path/fali/00125_fail.png/\n",
            "已複製00556_fail.png至./test_folder_path/fali/00556_fail.png/\n",
            "已複製00121_fail.png至./test_folder_path/fali/00121_fail.png/\n",
            "已複製00933_fail.png至./test_folder_path/fali/00933_fail.png/\n",
            "已複製00191_rise.png至./test_folder_path/rise/00191_rise.png/\n",
            "已複製00184_rise.png至./test_folder_path/rise/00184_rise.png/\n",
            "已複製00559_fail.png至./test_folder_path/fali/00559_fail.png/\n",
            "已複製00751_fail.png至./test_folder_path/fali/00751_fail.png/\n",
            "已複製00451_fail.png至./test_folder_path/fali/00451_fail.png/\n",
            "已複製00986_fail.png至./test_folder_path/fali/00986_fail.png/\n",
            "已複製00870_rise.png至./test_folder_path/rise/00870_rise.png/\n",
            "已複製00376_rise.png至./test_folder_path/rise/00376_rise.png/\n",
            "已複製00784_rise.png至./test_folder_path/rise/00784_rise.png/\n",
            "已複製00128_rise.png至./test_folder_path/rise/00128_rise.png/\n",
            "已複製00735_rise.png至./test_folder_path/rise/00735_rise.png/\n",
            "已複製00908_fail.png至./test_folder_path/fali/00908_fail.png/\n",
            "已複製00035_rise.png至./test_folder_path/rise/00035_rise.png/\n",
            "已複製00094_rise.png至./test_folder_path/rise/00094_rise.png/\n",
            "已複製00841_fail.png至./test_folder_path/fali/00841_fail.png/\n",
            "已複製00229_fail.png至./test_folder_path/fali/00229_fail.png/\n",
            "已複製00837_fail.png至./test_folder_path/fali/00837_fail.png/\n",
            "已複製00013_rise.png至./test_folder_path/rise/00013_rise.png/\n",
            "已複製01136_fail.png至./test_folder_path/fali/01136_fail.png/\n",
            "已複製00495_fail.png至./test_folder_path/fali/00495_fail.png/\n",
            "已複製00194_rise.png至./test_folder_path/rise/00194_rise.png/\n",
            "已複製00557_fail.png至./test_folder_path/fali/00557_fail.png/\n",
            "已複製00649_rise.png至./test_folder_path/rise/00649_rise.png/\n",
            "已複製01083_rise.png至./test_folder_path/rise/01083_rise.png/\n",
            "已複製00083_fail.png至./test_folder_path/fali/00083_fail.png/\n",
            "已複製00739_rise.png至./test_folder_path/rise/00739_rise.png/\n",
            "已複製00510_rise.png至./test_folder_path/rise/00510_rise.png/\n",
            "已複製00003_rise.png至./test_folder_path/rise/00003_rise.png/\n"
          ]
        }
      ],
      "source": [
        "# 複製test圖片到test資料夾\n",
        "for test_image in test_list:\n",
        "    src_path = os.path.join('./image/',test_image) ## 假設圖片在 source_folder 中\n",
        "    if test_image[6:10] == 'rise':\n",
        "        dest_path = os.path.join(test_rise_folder_path+'/', test_image)\n",
        "    if test_image[6:10] == 'fail':\n",
        "        dest_path = os.path.join(test_fail_folder_path+'/', test_image)\n",
        "\n",
        "    shutil.copy(src_path, dest_path)\n",
        "    print(f\"已複製{test_image}至{dest_path}/\")"
      ]
    },
    {
      "cell_type": "code",
      "execution_count": 14,
      "metadata": {
        "id": "JFmizFgFTziV"
      },
      "outputs": [],
      "source": [
        "import torch\n",
        "from torchvision import datasets, transforms\n",
        "from torch.utils.data import DataLoader"
      ]
    },
    {
      "cell_type": "code",
      "execution_count": 15,
      "metadata": {
        "id": "iHkqunTnT804",
        "colab": {
          "base_uri": "https://localhost:8080/"
        },
        "outputId": "c106e88c-d5cd-4db4-c7d2-ecd801d7759f"
      },
      "outputs": [
        {
          "output_type": "stream",
          "name": "stdout",
          "text": [
            "Using device: cuda\n"
          ]
        }
      ],
      "source": [
        "# 檢查 GPU 是否可用\n",
        "device = torch.device(\"cuda\" if torch.cuda.is_available() else \"cpu\")\n",
        "print(\"Using device:\", device)  # 顯示使用的裝置"
      ]
    },
    {
      "cell_type": "markdown",
      "metadata": {
        "id": "mRX24O5xYzzW"
      },
      "source": [
        "# 這是程式第三段\n",
        "我要訓練CNN 網路"
      ]
    },
    {
      "cell_type": "code",
      "execution_count": 16,
      "metadata": {
        "id": "UazOUwssUA7E"
      },
      "outputs": [],
      "source": [
        "# 定義轉換\n",
        "transform = transforms.Compose([\n",
        "    transforms.Resize((128, 128)),  # 調整圖片大小\n",
        "    transforms.ToTensor()\n",
        "])\n",
        "\n",
        "# 讀取訓練和驗證資料\n",
        "train_data = datasets.ImageFolder(root='train_folder_path/', transform=transform)\n",
        "#print(train_data)\n",
        "test_data = datasets.ImageFolder(root='test_folder_path/', transform=transform)\n",
        "\n",
        "train_loader = DataLoader(train_data, batch_size=16, shuffle=True)\n",
        "#print(train_loader)\n",
        "test_loader = DataLoader(test_data, batch_size=16, shuffle=False)\n"
      ]
    },
    {
      "cell_type": "code",
      "execution_count": 17,
      "metadata": {
        "id": "povVoC_EVUym"
      },
      "outputs": [],
      "source": [
        "import torch\n",
        "import torch.nn as nn\n",
        "from torch.autograd import Variable\n",
        "import matplotlib.pyplot as plt"
      ]
    },
    {
      "cell_type": "code",
      "execution_count": 18,
      "metadata": {
        "id": "PT2T0t19Vdin"
      },
      "outputs": [],
      "source": [
        "class CNN_Model(nn.Module):\n",
        "    def __init__(self):\n",
        "        super(CNN_Model, self).__init__()\n",
        "        ## Convolution 1 , input_shape=(3,128, 128)\n",
        "        self.cnn1 = nn.Conv2d(in_channels=3, out_channels=16, kernel_size=5, stride=1, padding=0) #捲機後的大小(16, 124,124) ，算法 (128-5)/ 1 + 1 = 124\n",
        "        self.cnn2 = nn.Conv2d(in_channels=16, out_channels=32, kernel_size=5, stride=1, padding=0) ## 捲機後的大小(32, 120, 120 )  ，算法 (124 - 5 ) /1 + 1 = 120\n",
        "        self.relu1 = nn.ReLU()  ## activation\n",
        "        ## Max poo1\n",
        "        self.maxpool1 = nn.MaxPool2d(kernel_size=2)  ## 輸入的形狀是 (32, 120, 120) ，池化後的形狀是(32, 60,60 )，  算法 120/ 2 = 60\n",
        "        self.cnn3 = nn.Conv2d(in_channels=32, out_channels=64, kernel_size=3 , stride=1, padding=0)  # 輸入的形狀是 (32, 60, 60) ，輸出是 (32, 58,58 ) 算法 (60-3)/1 + 1 = 58\n",
        "        self.relu2 = nn.ReLU()\n",
        "        ## Max poo 2\n",
        "        self.maxpool2 = nn.MaxPool2d(kernel_size=2)   ## 輸入的形狀是 (64, 58,58)  ， 輸出是 (64, 29, 29) ，算法是 (58/2) = 29\n",
        "        self.fc1 = nn.Linear(64 * 29 * 29, 128)  ## 關鍵就在這裡是要對到的。\n",
        "        self.fc2 = nn.Linear(128, 2)  # Output為2，對應於兩類分類\n",
        "\n",
        "    def forward(self, x):\n",
        "        # Convolution 1\n",
        "        out = self.cnn1(x)\n",
        "        out = self.cnn2(out)\n",
        "        out = self.relu1(out)\n",
        "        # Max pool 1\n",
        "        out = self.maxpool1(out)\n",
        "        out = self.cnn3(out)\n",
        "        out = self.relu2(out)\n",
        "        out = self.maxpool2(out)\n",
        "        ## 多思，我這攤平是要怎麼做的???\n",
        "        out = out.view(out.size(0) , -1)\n",
        "        out = self.fc1(out)\n",
        "        out = self.fc2(out)\n",
        "\n",
        "        return out"
      ]
    },
    {
      "cell_type": "code",
      "execution_count": 19,
      "metadata": {
        "id": "_39SHEZ9Vhyo",
        "colab": {
          "base_uri": "https://localhost:8080/"
        },
        "outputId": "086a8b7a-a25b-4853-a6cc-e33dcf557bab"
      },
      "outputs": [
        {
          "output_type": "stream",
          "name": "stdout",
          "text": [
            "CNN_Model(\n",
            "  (cnn1): Conv2d(3, 16, kernel_size=(5, 5), stride=(1, 1))\n",
            "  (cnn2): Conv2d(16, 32, kernel_size=(5, 5), stride=(1, 1))\n",
            "  (relu1): ReLU()\n",
            "  (maxpool1): MaxPool2d(kernel_size=2, stride=2, padding=0, dilation=1, ceil_mode=False)\n",
            "  (cnn3): Conv2d(32, 64, kernel_size=(3, 3), stride=(1, 1))\n",
            "  (relu2): ReLU()\n",
            "  (maxpool2): MaxPool2d(kernel_size=2, stride=2, padding=0, dilation=1, ceil_mode=False)\n",
            "  (fc1): Linear(in_features=53824, out_features=128, bias=True)\n",
            "  (fc2): Linear(in_features=128, out_features=2, bias=True)\n",
            ")\n"
          ]
        }
      ],
      "source": [
        "model = CNN_Model()\n",
        "print(model)\n",
        "\n",
        "# 初始化模型並轉移至 GPU\n",
        "model = CNN_Model().to(device)"
      ]
    },
    {
      "cell_type": "code",
      "execution_count": 20,
      "metadata": {
        "id": "pxDQPC7ZVll7"
      },
      "outputs": [],
      "source": [
        "optimizer = torch.optim.Adam(model.parameters(), lr=0.001)   # optimize all cnn parameters\n",
        "loss_func  =  nn.CrossEntropyLoss()  # the target label is not one-hotted\n",
        "input_shape = (-1,3,128,128)"
      ]
    },
    {
      "cell_type": "code",
      "execution_count": 21,
      "metadata": {
        "id": "t4m3X7qqVsv7",
        "colab": {
          "base_uri": "https://localhost:8080/"
        },
        "outputId": "0935462e-f983-4574-aef4-69e5bcfef854"
      },
      "outputs": [
        {
          "output_type": "stream",
          "name": "stdout",
          "text": [
            "Train Epoch: 1/15 Traing_Loss: 0.2552430033683777 Traing_acc: 60.397072% Val_Loss: 0.07759520411491394 Val_accuracy: 87.083336%\n",
            "Train Epoch: 2/15 Traing_Loss: 0.15975157916545868 Traing_acc: 92.580978% Val_Loss: 0.006507513578981161 Val_accuracy: 94.583336%\n",
            "Train Epoch: 3/15 Traing_Loss: 0.2722643315792084 Traing_acc: 95.402298% Val_Loss: 0.06719429045915604 Val_accuracy: 93.750008%\n",
            "Train Epoch: 4/15 Traing_Loss: 0.12702256441116333 Traing_acc: 96.342735% Val_Loss: 0.05140220373868942 Val_accuracy: 94.583336%\n",
            "Train Epoch: 5/15 Traing_Loss: 0.013882627710700035 Traing_acc: 97.701149% Val_Loss: 0.27518773078918457 Val_accuracy: 91.666672%\n",
            "Train Epoch: 6/15 Traing_Loss: 0.007644908502697945 Traing_acc: 97.387665% Val_Loss: 0.230590358376503 Val_accuracy: 93.750008%\n",
            "Train Epoch: 7/15 Traing_Loss: 0.0978386327624321 Traing_acc: 96.029259% Val_Loss: 0.12234616279602051 Val_accuracy: 92.916672%\n",
            "Train Epoch: 8/15 Traing_Loss: 0.07617954909801483 Traing_acc: 98.119118% Val_Loss: 0.19193847477436066 Val_accuracy: 93.333336%\n",
            "Train Epoch: 9/15 Traing_Loss: 0.03361458331346512 Traing_acc: 98.328110% Val_Loss: 0.46139705181121826 Val_accuracy: 90.833336%\n",
            "Train Epoch: 10/15 Traing_Loss: 0.1698339581489563 Traing_acc: 98.641586% Val_Loss: 0.35150155425071716 Val_accuracy: 92.500008%\n",
            "Train Epoch: 11/15 Traing_Loss: 0.1699794977903366 Traing_acc: 96.865204% Val_Loss: 0.862974226474762 Val_accuracy: 91.250008%\n",
            "Train Epoch: 12/15 Traing_Loss: 8.787168917478994e-05 Traing_acc: 97.492157% Val_Loss: 0.3901757001876831 Val_accuracy: 90.833336%\n",
            "Train Epoch: 13/15 Traing_Loss: 0.05065077915787697 Traing_acc: 98.850571% Val_Loss: 0.45928481221199036 Val_accuracy: 93.750008%\n",
            "Train Epoch: 14/15 Traing_Loss: 0.13120649755001068 Traing_acc: 99.686516% Val_Loss: 0.5202810764312744 Val_accuracy: 93.750008%\n",
            "Train Epoch: 15/15 Traing_Loss: 0.002671959111467004 Traing_acc: 99.791008% Val_Loss: 0.4389064610004425 Val_accuracy: 91.666672%\n"
          ]
        }
      ],
      "source": [
        "# Traning the Model\n",
        "#history-like list for store loss & acc value\n",
        "training_loss = []\n",
        "training_accuracy = []\n",
        "test_loss = []\n",
        "test_accuracy = []\n",
        "num_epochs = 15\n",
        "## 開始訓練\n",
        "for epoch in range(num_epochs):  # 訓練100個epoch\n",
        "    model.train()\n",
        "    running_loss = 0.0\n",
        "    #training model & store loss & acc / epoch\n",
        "    correct_train = 0\n",
        "    total_train = 0\n",
        "    for i, (images, labels) in enumerate(train_loader):\n",
        "        images, labels = images.to(device), labels.to(device) # 將 images 和 labels 轉移至 GPU\n",
        "\n",
        "        # 1.Define variables  ## 定義變數\n",
        "        train = Variable(images.view(input_shape))\n",
        "        labels = Variable(labels)\n",
        "        # 2.Clear gradients  ## 清晰的漸變; 清理梯度\n",
        "        optimizer.zero_grad()\n",
        "        # 3.Forward propagation ##前向傳播\n",
        "        outputs = model(train)\n",
        "        # 4.Calculate softmax and cross entropy loss  ## 計算softmax和交叉熵損失\n",
        "        train_loss = loss_func(outputs, labels)\n",
        "        # 5.Calculate gradients\n",
        "        train_loss.backward()  #計算梯度\n",
        "        # 6.Update parameters  ##更新參數\n",
        "        optimizer.step()\n",
        "        # 7.Get predictions from the maximum value  # 從最大值取得預測\n",
        "        predicted = torch.max(outputs.data, 1)[1]\n",
        "        # 8.Total number of labels  # 標籤總數\n",
        "        total_train += len(labels)\n",
        "        # 9.Total correct predictions  # 正確預測總數\n",
        "        correct_train += (predicted == labels).float().sum()\n",
        "\n",
        "    #10.store val_acc / epoch\n",
        "    train_accuracy = 100 * correct_train / float(total_train)\n",
        "    training_accuracy.append(train_accuracy)\n",
        "    # 11.store loss / epoch\n",
        "    training_loss.append(train_loss.data)\n",
        "\n",
        "\n",
        "    ##　這個我接下來是要跑　測是集的部分了  ####\n",
        "    #evaluate model & store loss & acc / epoch\n",
        "    correct_test = 0\n",
        "    total_test = 0\n",
        "    for images, labels in test_loader:\n",
        "        images, labels = images.to(device), labels.to(device) # 將 images 和 labels 轉移至 GPU\n",
        "\n",
        "        # 1.Define variables\n",
        "        test = Variable(images.view(input_shape))\n",
        "        # 2.Forward propagation\n",
        "        outputs = model(test)\n",
        "        # 3.Calculate softmax and cross entropy loss\n",
        "        val_loss = loss_func(outputs, labels)\n",
        "        # 4.Get predictions from the maximum value\n",
        "        predicted = torch.max(outputs.data, 1)[1]\n",
        "        # 5.Total number of labels\n",
        "        total_test += len(labels)\n",
        "        # 6.Total correct predictions\n",
        "        correct_test += (predicted == labels).float().sum()\n",
        "    #6.store val_acc / epoch\n",
        "    val_accuracy = 100 * correct_test / float(total_test)\n",
        "    test_accuracy.append(val_accuracy)\n",
        "    # 11.store val_loss / epoch\n",
        "    test_loss.append(val_loss.data)\n",
        "    print('Train Epoch: {}/{} Traing_Loss: {} Traing_acc: {:.6f}% Val_Loss: {} Val_accuracy: {:.6f}%'.format(epoch+1,num_epochs , train_loss.data, train_accuracy, val_loss.data, val_accuracy))\n",
        "\n"
      ]
    },
    {
      "cell_type": "code",
      "execution_count": 22,
      "metadata": {
        "id": "xqIbYoVjVxP3",
        "colab": {
          "base_uri": "https://localhost:8080/"
        },
        "outputId": "8f959f0c-573d-4737-9a41-bdb4089e4b0d"
      },
      "outputs": [
        {
          "output_type": "stream",
          "name": "stdout",
          "text": [
            "Accuracy on validation data: 91.66666666666667%\n"
          ]
        }
      ],
      "source": [
        "# 驗證模型\n",
        "model.eval()\n",
        "correct = 0\n",
        "total = 0\n",
        "with torch.no_grad():\n",
        "    for images, labels in test_loader:\n",
        "        images, labels = images.to(device), labels.to(device) # 將 images 和 labels 轉移至 GPU\n",
        "        outputs = model(images)\n",
        "        _, predicted = torch.max(outputs, 1)\n",
        "        total += labels.size(0)\n",
        "        correct += (predicted == labels).sum().item()\n",
        "\n",
        "print(f'Accuracy on validation data: {100 * correct / total}%')\n"
      ]
    },
    {
      "cell_type": "code",
      "execution_count": 23,
      "metadata": {
        "id": "j6ejkGfCXa-g",
        "colab": {
          "base_uri": "https://localhost:8080/",
          "height": 927
        },
        "outputId": "dcb359fa-6859-4251-c68d-2d592e6adbf1"
      },
      "outputs": [
        {
          "output_type": "display_data",
          "data": {
            "text/plain": [
              "<Figure size 640x480 with 1 Axes>"
            ],
            "image/png": "[encoded data removed]"
          },
          "metadata": {}
        },
        {
          "output_type": "display_data",
          "data": {
            "text/plain": [
              "<Figure size 640x480 with 1 Axes>"
            ],
            "image/png": "[encoded data removed]"
          },
          "metadata": {}
        }
      ],
      "source": [
        "# visualization ## 可以是化的部分了\n",
        "training_loss = [loss.item() for loss in training_loss]\n",
        "test_loss = [loss.item() for loss in test_loss]\n",
        "training_accuracy = [loss.item() for loss in training_accuracy]\n",
        "test_accuracy = [loss.item() for loss in test_accuracy]\n",
        "plt.plot(range(num_epochs), training_loss, 'b-', label='Training_loss')\n",
        "plt.plot(range(num_epochs), test_loss, 'g-', label='validation_loss')\n",
        "plt.title('Training & Validation loss')\n",
        "plt.xlabel('Number of epochs')\n",
        "plt.ylabel('Loss')\n",
        "plt.legend()\n",
        "plt.show()\n",
        "plt.plot(range(num_epochs), training_accuracy, 'b-', label='Training_accuracy')\n",
        "plt.plot(range(num_epochs), test_accuracy, 'g-', label='Validation_accuracy')\n",
        "plt.title('Training & Validation accuracy')\n",
        "plt.xlabel('Number of epochs')\n",
        "plt.ylabel('Accuracy')\n",
        "plt.legend()\n",
        "plt.show()\n"
      ]
    },
    {
      "cell_type": "code",
      "execution_count": 24,
      "metadata": {
        "id": "bl7hNLpGXiuk"
      },
      "outputs": [],
      "source": [
        "### 我要去儲存模型\n",
        "torch.save(model,'K_CNN_model.pt')"
      ]
    },
    {
      "cell_type": "markdown",
      "metadata": {
        "id": "KIvTaQHgX0A7"
      },
      "source": [
        "# 第四段程式碼\n",
        "我去讀模型，然後把所有的結果繪製出來"
      ]
    },
    {
      "cell_type": "code",
      "execution_count": 25,
      "metadata": {
        "id": "I_axFPYuXvWZ"
      },
      "outputs": [],
      "source": [
        "import os\n",
        "import torch\n",
        "from torchvision import transforms\n",
        "from PIL import Image\n",
        "import torch.nn as nn\n",
        "import matplotlib.pyplot as plt"
      ]
    },
    {
      "cell_type": "code",
      "execution_count": 26,
      "metadata": {
        "id": "zXBcjUoMYBzg"
      },
      "outputs": [],
      "source": [
        "class CNN_Model(nn.Module):\n",
        "    def __init__(self):\n",
        "        super(CNN_Model, self).__init__()\n",
        "        ## Convolution 1 , input_shape=(3,128, 128)\n",
        "        self.cnn1 = nn.Conv2d(in_channels=3, out_channels=16, kernel_size=5, stride=1, padding=0) #捲機後的大小(16, 124,124) ，算法 (128-5)/ 1 + 1 = 124\n",
        "        self.cnn2 = nn.Conv2d(in_channels=16, out_channels=32, kernel_size=5, stride=1, padding=0) ## 捲機後的大小(32, 120, 120 )  ，算法 (124 - 5 ) /1 + 1 = 120\n",
        "        self.relu1 = nn.ReLU()  ## activation\n",
        "        ## Max poo1\n",
        "        self.maxpool1 = nn.MaxPool2d(kernel_size=2)  ## 輸入的形狀是 (32, 120, 120) ，池化後的形狀是(32, 60,60 )，  算法 120/ 2 = 60\n",
        "        self.cnn3 = nn.Conv2d(in_channels=32, out_channels=64, kernel_size=3 , stride=1, padding=0)  # 輸入的形狀是 (32, 60, 60) ，輸出是 (32, 58,58 ) 算法 (60-3)/1 + 1 = 58\n",
        "        self.relu2 = nn.ReLU()\n",
        "        ## Max poo 2\n",
        "        self.maxpool2 = nn.MaxPool2d(kernel_size=2)   ## 輸入的形狀是 (64, 58,58)  ， 輸出是 (64, 29, 29) ，算法是 (58/2) = 29\n",
        "        self.fc1 = nn.Linear(64 * 29 * 29, 128)  ## 關鍵就在這裡是要對到的。\n",
        "        self.fc2 = nn.Linear(128, 2)  # Output為2，對應於兩類分類\n",
        "\n",
        "    def forward(self, x):\n",
        "        # Convolution 1\n",
        "        out = self.cnn1(x)\n",
        "        out = self.cnn2(out)\n",
        "        out = self.relu1(out)\n",
        "        # Max pool 1\n",
        "        out = self.maxpool1(out)\n",
        "        out = self.cnn3(out)\n",
        "        out = self.relu2(out)\n",
        "        out = self.maxpool2(out)\n",
        "        ## 多思，我這攤平是要怎麼做的???\n",
        "        out = out.view(out.size(0) , -1)\n",
        "        out = self.fc1(out)\n",
        "        out = self.fc2(out)\n",
        "\n",
        "        return out"
      ]
    },
    {
      "cell_type": "code",
      "execution_count": 27,
      "metadata": {
        "id": "Zh0fwK_KYEIb",
        "colab": {
          "base_uri": "https://localhost:8080/"
        },
        "outputId": "31ecc06c-5032-47b1-9410-bd7c12ca415a"
      },
      "outputs": [
        {
          "output_type": "stream",
          "name": "stderr",
          "text": [
            "<ipython-input-27-41a8c3c44e67>:5: FutureWarning: You are using `torch.load` with `weights_only=False` (the current default value), which uses the default pickle module implicitly. It is possible to construct malicious pickle data which will execute arbitrary code during unpickling (See https://github.com/pytorch/pytorch/blob/main/SECURITY.md#untrusted-models for more details). In a future release, the default value for `weights_only` will be flipped to `True`. This limits the functions that could be executed during unpickling. Arbitrary objects will no longer be allowed to be loaded via this mode unless they are explicitly allowlisted by the user via `torch.serialization.add_safe_globals`. We recommend you start setting `weights_only=True` for any use case where you don't have full control of the loaded file. Please open an issue on GitHub for any issues related to this experimental feature.\n",
            "  model = torch.load(\"./K_CNN_model.pt\")\n"
          ]
        }
      ],
      "source": [
        "# 設定裝置\n",
        "device = torch.device(\"cuda\" if torch.cuda.is_available() else \"cpu\")\n",
        "\n",
        "# 加載模型\n",
        "model = torch.load(\"./K_CNN_model.pt\")\n",
        "model = model.to(device)\n",
        "model.eval()  # 設置模型為評估模式\n",
        "\n",
        "# 定義轉換\n",
        "transform = transforms.Compose([\n",
        "    transforms.Resize((128, 128)),  # 調整圖片大小\n",
        "    transforms.ToTensor()\n",
        "])"
      ]
    },
    {
      "cell_type": "code",
      "execution_count": 28,
      "metadata": {
        "id": "wxXTcJ7VYHYZ"
      },
      "outputs": [],
      "source": [
        "# 預測函數\n",
        "def predict_image(image_path):\n",
        "    image_0 =Image.open(image_path)\n",
        "    #image = Image.open(image_path).convert(\"RGB\")  # 確保圖片為 RGB\n",
        "    image = image_0.convert(\"RGB\")\n",
        "    image = transform(image).unsqueeze(0)  # 增加一個 batch 維度\n",
        "    image = image.to(device)\n",
        "\n",
        "    with torch.no_grad():  # 停用梯度計算\n",
        "        output = model(image)\n",
        "        _, predicted = torch.max(output, 1)  # 取得預測類別\n",
        "    return image_0,predicted.item()\n"
      ]
    },
    {
      "cell_type": "code",
      "execution_count": 29,
      "metadata": {
        "id": "ZOJZqodWYJwQ",
        "colab": {
          "base_uri": "https://localhost:8080/",
          "height": 435
        },
        "outputId": "edc2f412-d645-4593-fdb4-cf09bc2dc2a7"
      },
      "outputs": [
        {
          "output_type": "display_data",
          "data": {
            "text/plain": [
              "<Figure size 640x480 with 1 Axes>"
            ],
            "image/png": "[encoded data removed]"
          },
          "metadata": {}
        }
      ],
      "source": [
        "# 遍歷 val 資料夾\n",
        "tong_i = 0\n",
        "val_dir = \"test_folder_path\"\n",
        "for class_folder in os.listdir(val_dir):\n",
        "    class_path = os.path.join(val_dir, class_folder)\n",
        "    if os.path.isdir(class_path):\n",
        "        for img_file in os.listdir(class_path):\n",
        "            img_path = os.path.join(class_path, img_file)\n",
        "            if img_path.endswith(\".png\"):\n",
        "                image_0,prediction = predict_image(img_path)\n",
        "                #print(img_path[-8: -4])  ## 我這是取得圖片的檔名。我要去判斷它的類別。\n",
        "                if img_path[-8: -4] == 'rise' :\n",
        "                    #print('實際是漲')\n",
        "                    ground_true = 'rise'\n",
        "                if img_path[-8: -4] == 'fail' :\n",
        "                    #print('實際是跌')\n",
        "                    ground_true = 'fail'\n",
        "\n",
        "                #print(prediction)\n",
        "                if prediction == 0:\n",
        "                    predicted_ans = 'fail'\n",
        "                if prediction == 1:\n",
        "                    predicted_ans = 'rise'\n",
        "\n",
        "                plt.imshow(image_0)         # 在圖表中繪製圖片\n",
        "                plt.text(5,15,\n",
        "                         'Actual results: '+ground_true)\n",
        "                plt.text(5,30,\n",
        "                         'Prediction results: '+predicted_ans)\n",
        "                #print(f\"Image: {img_file}, Prediction: {prediction}\")\n",
        "                if tong_i == 0:  ## 我指到示範一張當範例而已。\n",
        "                  plt.show()\n",
        "                  tong_i +=1\n",
        "                plt.close()\n",
        "\n"
      ]
    },
    {
      "cell_type": "code",
      "execution_count": 29,
      "metadata": {
        "id": "TgaLv9bfYMbh"
      },
      "outputs": [],
      "source": []
    }
  ],
  "metadata": {
    "accelerator": "GPU",
    "colab": {
      "gpuType": "T4",
      "toc_visible": true,
      "provenance": []
    },
    "kernelspec": {
      "display_name": "Python 3",
      "name": "python3"
    },
    "language_info": {
      "name": "python"
    }
  },
  "nbformat": 4,
  "nbformat_minor": 0
}